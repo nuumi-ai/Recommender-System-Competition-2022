{
 "cells": [
  {
   "cell_type": "code",
   "execution_count": 1,
   "metadata": {},
   "outputs": [],
   "source": [
    "import json\n",
    "\n",
    "data = json.load(open('../los_angeles.json', 'r'))"
   ]
  },
  {
   "cell_type": "code",
   "execution_count": 2,
   "metadata": {
    "pycharm": {
     "name": "#%%\n"
    }
   },
   "outputs": [
    {
     "data": {
      "text/plain": [
       "13128"
      ]
     },
     "execution_count": 2,
     "metadata": {},
     "output_type": "execute_result"
    }
   ],
   "source": [
    "# should be number of restaurants\n",
    "len(data)"
   ]
  },
  {
   "cell_type": "code",
   "execution_count": 3,
   "metadata": {
    "pycharm": {
     "name": "#%%\n"
    }
   },
   "outputs": [],
   "source": [
    "import pandas as pd\n",
    "\n",
    "dataframe = pd.DataFrame.from_dict(data)"
   ]
  },
  {
   "cell_type": "code",
   "execution_count": 4,
   "metadata": {
    "pycharm": {
     "name": "#%%\n"
    }
   },
   "outputs": [],
   "source": [
    "assert len(dataframe) == len(data)"
   ]
  },
  {
   "cell_type": "code",
   "execution_count": 5,
   "metadata": {},
   "outputs": [
    {
     "data": {
      "text/plain": [
       "Index(['place_id', 'name', 'category', 'related_categories', 'subtitle',\n",
       "       'description', 'priceRange', 'phone', 'address', 'lat', 'lng',\n",
       "       'detailed_address', 'website', 'rating', 'reviews', 'menu', 'links',\n",
       "       'services', 'amenities', 'open_hours', 'images', 'images_pages',\n",
       "       'google_code', 'map_url', 'domain', 'attributes', 'popular_times',\n",
       "       'is_claimed', 'place_status', 'is_food_and_beverage', 'reviews_tags',\n",
       "       'check_in_time', 'check_out_time', 'booking_links', 'cid',\n",
       "       'users_reviews'],\n",
       "      dtype='object')"
      ]
     },
     "execution_count": 5,
     "metadata": {},
     "output_type": "execute_result"
    }
   ],
   "source": [
    "dataframe.columns"
   ]
  },
  {
   "cell_type": "code",
   "execution_count": 6,
   "metadata": {},
   "outputs": [],
   "source": [
    "expanded_df = dataframe.explode('users_reviews')"
   ]
  },
  {
   "cell_type": "code",
   "execution_count": 7,
   "metadata": {},
   "outputs": [
    {
     "data": {
      "text/plain": [
       "3667819"
      ]
     },
     "execution_count": 7,
     "metadata": {},
     "output_type": "execute_result"
    }
   ],
   "source": [
    "# number of total reviews\n",
    "len(expanded_df)"
   ]
  },
  {
   "cell_type": "code",
   "execution_count": 12,
   "metadata": {},
   "outputs": [],
   "source": [
    "restaurants = dataframe[['place_id', 'name', 'category', 'related_categories', 'subtitle',\n",
    "       'description', 'priceRange', 'phone', 'address', 'lat', 'lng',\n",
    "       'detailed_address', 'website', 'rating', 'reviews', 'menu', 'links',\n",
    "       'services', 'amenities', 'open_hours', 'images', 'images_pages',\n",
    "       'google_code', 'map_url', 'domain', 'attributes', 'popular_times',\n",
    "       'is_claimed', 'place_status', 'is_food_and_beverage', 'reviews_tags',\n",
    "       'check_in_time', 'check_out_time', 'booking_links', 'cid']]"
   ]
  },
  {
   "cell_type": "code",
   "execution_count": 13,
   "metadata": {},
   "outputs": [],
   "source": [
    "restaurants.to_csv(\"../restaurants.tsv\", sep='\\t')"
   ]
  },
  {
   "cell_type": "code",
   "execution_count": 15,
   "metadata": {},
   "outputs": [],
   "source": [
    "reviews = pd.concat([expanded_df.drop(['users_reviews', 'name', 'category', 'related_categories', 'subtitle',\n",
    "       'description', 'priceRange', 'phone', 'address', 'lat', 'lng',\n",
    "       'detailed_address', 'website', 'rating', 'reviews', 'menu', 'links',\n",
    "       'services', 'amenities', 'open_hours', 'images', 'images_pages',\n",
    "       'google_code', 'map_url', 'domain', 'attributes', 'popular_times',\n",
    "       'is_claimed', 'place_status', 'is_food_and_beverage', 'reviews_tags',\n",
    "       'check_in_time', 'check_out_time', 'booking_links', 'cid'], axis=1), \n",
    "           expanded_df['users_reviews'].apply(pd.Series)], axis=1)"
   ]
  },
  {
   "cell_type": "code",
   "execution_count": 18,
   "metadata": {},
   "outputs": [],
   "source": [
    "valid_reviews = reviews[~reviews.place_id.isna() & ~reviews.user_profile.isna()]"
   ]
  },
  {
   "cell_type": "code",
   "execution_count": 19,
   "metadata": {},
   "outputs": [
    {
     "data": {
      "text/plain": [
       "3666478"
      ]
     },
     "execution_count": 19,
     "metadata": {},
     "output_type": "execute_result"
    }
   ],
   "source": [
    "len(valid_reviews)"
   ]
  },
  {
   "cell_type": "code",
   "execution_count": 20,
   "metadata": {},
   "outputs": [],
   "source": [
    "valid_reviews.to_csv('../reviews.tsv', sep='\\t')"
   ]
  },
  {
   "cell_type": "code",
   "execution_count": 21,
   "metadata": {},
   "outputs": [
    {
     "data": {
      "text/html": [
       "<div>\n",
       "<style scoped>\n",
       "    .dataframe tbody tr th:only-of-type {\n",
       "        vertical-align: middle;\n",
       "    }\n",
       "\n",
       "    .dataframe tbody tr th {\n",
       "        vertical-align: top;\n",
       "    }\n",
       "\n",
       "    .dataframe thead th {\n",
       "        text-align: right;\n",
       "    }\n",
       "</style>\n",
       "<table border=\"1\" class=\"dataframe\">\n",
       "  <thead>\n",
       "    <tr style=\"text-align: right;\">\n",
       "      <th></th>\n",
       "      <th>place_id</th>\n",
       "      <th>0</th>\n",
       "      <th>owner_response</th>\n",
       "      <th>publish_time</th>\n",
       "      <th>rating</th>\n",
       "      <th>review_id</th>\n",
       "      <th>review_link</th>\n",
       "      <th>review_text</th>\n",
       "      <th>user_name</th>\n",
       "      <th>user_profile</th>\n",
       "    </tr>\n",
       "  </thead>\n",
       "  <tbody>\n",
       "    <tr>\n",
       "      <th>0</th>\n",
       "      <td>ChIJlRaKjxe7woARw6OEBZ_B-Qg</td>\n",
       "      <td>NaN</td>\n",
       "      <td></td>\n",
       "      <td>2019-02-17 03:47:56</td>\n",
       "      <td>5.0</td>\n",
       "      <td>ChZDSUhNMG9nS0VJQ0FnSUNvM3ZyRU53EAE</td>\n",
       "      <td>https://www.google.com/maps/reviews/data=!4m8!...</td>\n",
       "      <td>Me Gusto Cherry frapuchino♥</td>\n",
       "      <td>Ali Burci</td>\n",
       "      <td>https://www.google.com/maps/contrib/1000294076...</td>\n",
       "    </tr>\n",
       "    <tr>\n",
       "      <th>0</th>\n",
       "      <td>ChIJlRaKjxe7woARw6OEBZ_B-Qg</td>\n",
       "      <td>NaN</td>\n",
       "      <td></td>\n",
       "      <td>2019-01-04 19:15:47</td>\n",
       "      <td>3.0</td>\n",
       "      <td>ChZDSUhNMG9nS0VJQ0FnSURJanNhTk9REAE</td>\n",
       "      <td>https://www.google.com/maps/reviews/data=!4m8!...</td>\n",
       "      <td>Wish it was larger.  Tables.</td>\n",
       "      <td>Ernie G.</td>\n",
       "      <td>https://www.google.com/maps/contrib/1000666524...</td>\n",
       "    </tr>\n",
       "    <tr>\n",
       "      <th>0</th>\n",
       "      <td>ChIJlRaKjxe7woARw6OEBZ_B-Qg</td>\n",
       "      <td>NaN</td>\n",
       "      <td></td>\n",
       "      <td>2018-10-21 22:15:19</td>\n",
       "      <td>4.0</td>\n",
       "      <td>ChZDSUhNMG9nS0VJQ0FnSUR3OE1mZExBEAE</td>\n",
       "      <td>https://www.google.com/maps/reviews/data=!4m8!...</td>\n",
       "      <td>None</td>\n",
       "      <td>hugo estrada</td>\n",
       "      <td>https://www.google.com/maps/contrib/1000975319...</td>\n",
       "    </tr>\n",
       "    <tr>\n",
       "      <th>0</th>\n",
       "      <td>ChIJlRaKjxe7woARw6OEBZ_B-Qg</td>\n",
       "      <td>NaN</td>\n",
       "      <td></td>\n",
       "      <td>2021-06-09 04:34:21</td>\n",
       "      <td>4.0</td>\n",
       "      <td>ChZDSUhNMG9nS0VJQ0FnSUNxb2FEV0lREAE</td>\n",
       "      <td>https://www.google.com/maps/reviews/data=!4m8!...</td>\n",
       "      <td>None</td>\n",
       "      <td>Nohl Lyons</td>\n",
       "      <td>https://www.google.com/maps/contrib/1001011175...</td>\n",
       "    </tr>\n",
       "    <tr>\n",
       "      <th>0</th>\n",
       "      <td>ChIJlRaKjxe7woARw6OEBZ_B-Qg</td>\n",
       "      <td>NaN</td>\n",
       "      <td></td>\n",
       "      <td>2017-01-24 18:29:42</td>\n",
       "      <td>5.0</td>\n",
       "      <td>ChZDSUhNMG9nS0VJQ0FnSUNneGRDdVFnEAE</td>\n",
       "      <td>https://www.google.com/maps/reviews/data=!4m8!...</td>\n",
       "      <td>None</td>\n",
       "      <td>Liliana Isella</td>\n",
       "      <td>https://www.google.com/maps/contrib/1001212736...</td>\n",
       "    </tr>\n",
       "    <tr>\n",
       "      <th>...</th>\n",
       "      <td>...</td>\n",
       "      <td>...</td>\n",
       "      <td>...</td>\n",
       "      <td>...</td>\n",
       "      <td>...</td>\n",
       "      <td>...</td>\n",
       "      <td>...</td>\n",
       "      <td>...</td>\n",
       "      <td>...</td>\n",
       "      <td>...</td>\n",
       "    </tr>\n",
       "    <tr>\n",
       "      <th>13125</th>\n",
       "      <td>ChIJdyh6Y8XHwoARLRHnFl8xfnE</td>\n",
       "      <td>NaN</td>\n",
       "      <td></td>\n",
       "      <td>2022-03-15 11:22:47</td>\n",
       "      <td>4.0</td>\n",
       "      <td>ChZDSUhNMG9nS0VJQ0FnSURXaEtIVVBREAE</td>\n",
       "      <td>https://www.google.com/maps/reviews/data=!4m8!...</td>\n",
       "      <td>Great pizza ? in my eria i love this .</td>\n",
       "      <td>Miclum Hug</td>\n",
       "      <td>https://www.google.com/maps/contrib/1071433790...</td>\n",
       "    </tr>\n",
       "    <tr>\n",
       "      <th>13125</th>\n",
       "      <td>ChIJdyh6Y8XHwoARLRHnFl8xfnE</td>\n",
       "      <td>NaN</td>\n",
       "      <td></td>\n",
       "      <td>2022-03-10 10:27:53</td>\n",
       "      <td>4.0</td>\n",
       "      <td>ChdDSUhNMG9nS0VJQ0FnSUNXcjlPZTlRRRAB</td>\n",
       "      <td>https://www.google.com/maps/reviews/data=!4m8!...</td>\n",
       "      <td>Such a great find! We loved the food so much t...</td>\n",
       "      <td>Esther Hart</td>\n",
       "      <td>https://www.google.com/maps/contrib/1054491821...</td>\n",
       "    </tr>\n",
       "    <tr>\n",
       "      <th>13125</th>\n",
       "      <td>ChIJdyh6Y8XHwoARLRHnFl8xfnE</td>\n",
       "      <td>NaN</td>\n",
       "      <td></td>\n",
       "      <td>2021-05-02 07:08:17</td>\n",
       "      <td>1.0</td>\n",
       "      <td>ChZDSUhNMG9nS0VJQ0FnSURLOUt2eEtREAE</td>\n",
       "      <td>https://www.google.com/maps/reviews/data=!4m8!...</td>\n",
       "      <td>Correct your hours</td>\n",
       "      <td>Kyle Kalmbach</td>\n",
       "      <td>https://www.google.com/maps/contrib/1164638838...</td>\n",
       "    </tr>\n",
       "    <tr>\n",
       "      <th>13125</th>\n",
       "      <td>ChIJdyh6Y8XHwoARLRHnFl8xfnE</td>\n",
       "      <td>NaN</td>\n",
       "      <td></td>\n",
       "      <td>2020-09-14 06:47:07</td>\n",
       "      <td>4.0</td>\n",
       "      <td>ChZDSUhNMG9nS0VJQ0FnSURDdU9lekNnEAE</td>\n",
       "      <td>https://www.google.com/maps/reviews/data=!4m8!...</td>\n",
       "      <td>Pizza of Venice makes unique and delicious piz...</td>\n",
       "      <td>Anne Ramirez</td>\n",
       "      <td>https://www.google.com/maps/contrib/1140065579...</td>\n",
       "    </tr>\n",
       "    <tr>\n",
       "      <th>13125</th>\n",
       "      <td>ChIJdyh6Y8XHwoARLRHnFl8xfnE</td>\n",
       "      <td>NaN</td>\n",
       "      <td></td>\n",
       "      <td>2020-03-12 08:24:20</td>\n",
       "      <td>1.0</td>\n",
       "      <td>ChdDSUhNMG9nS0VJQ0FnSUNjdm9ManlBRRAB</td>\n",
       "      <td>https://www.google.com/maps/reviews/data=!4m8!...</td>\n",
       "      <td>The truck was not parked at its listed address...</td>\n",
       "      <td>Tr'Vel Lyons</td>\n",
       "      <td>https://www.google.com/maps/contrib/1095888062...</td>\n",
       "    </tr>\n",
       "  </tbody>\n",
       "</table>\n",
       "<p>3666478 rows × 10 columns</p>\n",
       "</div>"
      ],
      "text/plain": [
       "                          place_id   0 owner_response         publish_time  \\\n",
       "0      ChIJlRaKjxe7woARw6OEBZ_B-Qg NaN                 2019-02-17 03:47:56   \n",
       "0      ChIJlRaKjxe7woARw6OEBZ_B-Qg NaN                 2019-01-04 19:15:47   \n",
       "0      ChIJlRaKjxe7woARw6OEBZ_B-Qg NaN                 2018-10-21 22:15:19   \n",
       "0      ChIJlRaKjxe7woARw6OEBZ_B-Qg NaN                 2021-06-09 04:34:21   \n",
       "0      ChIJlRaKjxe7woARw6OEBZ_B-Qg NaN                 2017-01-24 18:29:42   \n",
       "...                            ...  ..            ...                  ...   \n",
       "13125  ChIJdyh6Y8XHwoARLRHnFl8xfnE NaN                 2022-03-15 11:22:47   \n",
       "13125  ChIJdyh6Y8XHwoARLRHnFl8xfnE NaN                 2022-03-10 10:27:53   \n",
       "13125  ChIJdyh6Y8XHwoARLRHnFl8xfnE NaN                 2021-05-02 07:08:17   \n",
       "13125  ChIJdyh6Y8XHwoARLRHnFl8xfnE NaN                 2020-09-14 06:47:07   \n",
       "13125  ChIJdyh6Y8XHwoARLRHnFl8xfnE NaN                 2020-03-12 08:24:20   \n",
       "\n",
       "       rating                             review_id  \\\n",
       "0         5.0   ChZDSUhNMG9nS0VJQ0FnSUNvM3ZyRU53EAE   \n",
       "0         3.0   ChZDSUhNMG9nS0VJQ0FnSURJanNhTk9REAE   \n",
       "0         4.0   ChZDSUhNMG9nS0VJQ0FnSUR3OE1mZExBEAE   \n",
       "0         4.0   ChZDSUhNMG9nS0VJQ0FnSUNxb2FEV0lREAE   \n",
       "0         5.0   ChZDSUhNMG9nS0VJQ0FnSUNneGRDdVFnEAE   \n",
       "...       ...                                   ...   \n",
       "13125     4.0   ChZDSUhNMG9nS0VJQ0FnSURXaEtIVVBREAE   \n",
       "13125     4.0  ChdDSUhNMG9nS0VJQ0FnSUNXcjlPZTlRRRAB   \n",
       "13125     1.0   ChZDSUhNMG9nS0VJQ0FnSURLOUt2eEtREAE   \n",
       "13125     4.0   ChZDSUhNMG9nS0VJQ0FnSURDdU9lekNnEAE   \n",
       "13125     1.0  ChdDSUhNMG9nS0VJQ0FnSUNjdm9ManlBRRAB   \n",
       "\n",
       "                                             review_link  \\\n",
       "0      https://www.google.com/maps/reviews/data=!4m8!...   \n",
       "0      https://www.google.com/maps/reviews/data=!4m8!...   \n",
       "0      https://www.google.com/maps/reviews/data=!4m8!...   \n",
       "0      https://www.google.com/maps/reviews/data=!4m8!...   \n",
       "0      https://www.google.com/maps/reviews/data=!4m8!...   \n",
       "...                                                  ...   \n",
       "13125  https://www.google.com/maps/reviews/data=!4m8!...   \n",
       "13125  https://www.google.com/maps/reviews/data=!4m8!...   \n",
       "13125  https://www.google.com/maps/reviews/data=!4m8!...   \n",
       "13125  https://www.google.com/maps/reviews/data=!4m8!...   \n",
       "13125  https://www.google.com/maps/reviews/data=!4m8!...   \n",
       "\n",
       "                                             review_text       user_name  \\\n",
       "0                            Me Gusto Cherry frapuchino♥       Ali Burci   \n",
       "0                           Wish it was larger.  Tables.        Ernie G.   \n",
       "0                                                   None    hugo estrada   \n",
       "0                                                   None      Nohl Lyons   \n",
       "0                                                   None  Liliana Isella   \n",
       "...                                                  ...             ...   \n",
       "13125             Great pizza ? in my eria i love this .      Miclum Hug   \n",
       "13125  Such a great find! We loved the food so much t...     Esther Hart   \n",
       "13125                                 Correct your hours   Kyle Kalmbach   \n",
       "13125  Pizza of Venice makes unique and delicious piz...    Anne Ramirez   \n",
       "13125  The truck was not parked at its listed address...    Tr'Vel Lyons   \n",
       "\n",
       "                                            user_profile  \n",
       "0      https://www.google.com/maps/contrib/1000294076...  \n",
       "0      https://www.google.com/maps/contrib/1000666524...  \n",
       "0      https://www.google.com/maps/contrib/1000975319...  \n",
       "0      https://www.google.com/maps/contrib/1001011175...  \n",
       "0      https://www.google.com/maps/contrib/1001212736...  \n",
       "...                                                  ...  \n",
       "13125  https://www.google.com/maps/contrib/1071433790...  \n",
       "13125  https://www.google.com/maps/contrib/1054491821...  \n",
       "13125  https://www.google.com/maps/contrib/1164638838...  \n",
       "13125  https://www.google.com/maps/contrib/1140065579...  \n",
       "13125  https://www.google.com/maps/contrib/1095888062...  \n",
       "\n",
       "[3666478 rows x 10 columns]"
      ]
     },
     "execution_count": 21,
     "metadata": {},
     "output_type": "execute_result"
    }
   ],
   "source": [
    "valid_reviews"
   ]
  },
  {
   "cell_type": "code",
   "execution_count": null,
   "metadata": {},
   "outputs": [],
   "source": []
  }
 ],
 "metadata": {
  "kernelspec": {
   "display_name": "Python 3",
   "language": "python",
   "name": "python3"
  },
  "language_info": {
   "codemirror_mode": {
    "name": "ipython",
    "version": 3
   },
   "file_extension": ".py",
   "mimetype": "text/x-python",
   "name": "python",
   "nbconvert_exporter": "python",
   "pygments_lexer": "ipython3",
   "version": "3.8.8"
  }
 },
 "nbformat": 4,
 "nbformat_minor": 1
}
