{
 "cells": [
  {
   "cell_type": "code",
   "execution_count": 1,
   "metadata": {},
   "outputs": [],
   "source": [
    "import json\n",
    "\n",
    "data = json.load(open('../los_angeles.json', 'r'))"
   ]
  },
  {
   "cell_type": "code",
   "execution_count": 2,
   "metadata": {
    "pycharm": {
     "name": "#%%\n"
    }
   },
   "outputs": [
    {
     "data": {
      "text/plain": [
       "13128"
      ]
     },
     "execution_count": 2,
     "metadata": {},
     "output_type": "execute_result"
    }
   ],
   "source": [
    "# should be number of restaurants\n",
    "len(data)"
   ]
  },
  {
   "cell_type": "code",
   "execution_count": 3,
   "metadata": {
    "pycharm": {
     "name": "#%%\n"
    }
   },
   "outputs": [],
   "source": [
    "import pandas as pd\n",
    "\n",
    "dataframe = pd.DataFrame.from_dict(data)"
   ]
  },
  {
   "cell_type": "code",
   "execution_count": 4,
   "metadata": {
    "pycharm": {
     "name": "#%%\n"
    }
   },
   "outputs": [],
   "source": [
    "assert len(dataframe) == len(data)"
   ]
  },
  {
   "cell_type": "code",
   "execution_count": 5,
   "metadata": {},
   "outputs": [
    {
     "data": {
      "text/plain": [
       "Index(['place_id', 'name', 'category', 'related_categories', 'subtitle',\n",
       "       'description', 'priceRange', 'phone', 'address', 'lat', 'lng',\n",
       "       'detailed_address', 'website', 'rating', 'reviews', 'menu', 'links',\n",
       "       'services', 'amenities', 'open_hours', 'images', 'images_pages',\n",
       "       'google_code', 'map_url', 'domain', 'attributes', 'popular_times',\n",
       "       'is_claimed', 'place_status', 'is_food_and_beverage', 'reviews_tags',\n",
       "       'check_in_time', 'check_out_time', 'booking_links', 'cid',\n",
       "       'users_reviews'],\n",
       "      dtype='object')"
      ]
     },
     "execution_count": 5,
     "metadata": {},
     "output_type": "execute_result"
    }
   ],
   "source": [
    "dataframe.columns"
   ]
  },
  {
   "cell_type": "code",
   "execution_count": 6,
   "metadata": {},
   "outputs": [],
   "source": [
    "expanded_df = dataframe.explode('users_reviews')"
   ]
  },
  {
   "cell_type": "code",
   "execution_count": 7,
   "metadata": {},
   "outputs": [
    {
     "data": {
      "text/plain": [
       "3667819"
      ]
     },
     "execution_count": 7,
     "metadata": {},
     "output_type": "execute_result"
    }
   ],
   "source": [
    "# number of total reviews\n",
    "len(expanded_df)"
   ]
  },
  {
   "cell_type": "code",
   "execution_count": 12,
   "metadata": {},
   "outputs": [],
   "source": [
    "restaurants = dataframe[['place_id', 'name', 'category', 'related_categories', 'subtitle',\n",
    "       'description', 'priceRange', 'phone', 'address', 'lat', 'lng',\n",
    "       'detailed_address', 'website', 'rating', 'reviews', 'menu', 'links',\n",
    "       'services', 'amenities', 'open_hours', 'images', 'images_pages',\n",
    "       'google_code', 'map_url', 'domain', 'attributes', 'popular_times',\n",
    "       'is_claimed', 'place_status', 'is_food_and_beverage', 'reviews_tags',\n",
    "       'check_in_time', 'check_out_time', 'booking_links', 'cid']]"
   ]
  },
  {
   "cell_type": "code",
   "execution_count": 13,
   "metadata": {},
   "outputs": [],
   "source": [
    "restaurants.to_csv(\"../restaurants.tsv\", sep='\\t')"
   ]
  },
  {
   "cell_type": "code",
   "execution_count": null,
   "metadata": {},
   "outputs": [],
   "source": [
    "reviews = pd.concat([expanded_df.drop(['users_reviews', 'name', 'category', 'related_categories', 'subtitle',\n",
    "       'description', 'priceRange', 'phone', 'address', 'lat', 'lng',\n",
    "       'detailed_address', 'website', 'rating', 'reviews', 'menu', 'links',\n",
    "       'services', 'amenities', 'open_hours', 'images', 'images_pages',\n",
    "       'google_code', 'map_url', 'domain', 'attributes', 'popular_times',\n",
    "       'is_claimed', 'place_status', 'is_food_and_beverage', 'reviews_tags',\n",
    "       'check_in_time', 'check_out_time', 'booking_links', 'cid'], axis=1), \n",
    "           expanded_df['users_reviews'].apply(pd.Series)], axis=1)"
   ]
  },
  {
   "cell_type": "code",
   "execution_count": null,
   "metadata": {},
   "outputs": [],
   "source": []
  }
 ],
 "metadata": {
  "kernelspec": {
   "display_name": "Python 3",
   "language": "python",
   "name": "python3"
  },
  "language_info": {
   "codemirror_mode": {
    "name": "ipython",
    "version": 3
   },
   "file_extension": ".py",
   "mimetype": "text/x-python",
   "name": "python",
   "nbconvert_exporter": "python",
   "pygments_lexer": "ipython3",
   "version": "3.8.8"
  }
 },
 "nbformat": 4,
 "nbformat_minor": 1
}
