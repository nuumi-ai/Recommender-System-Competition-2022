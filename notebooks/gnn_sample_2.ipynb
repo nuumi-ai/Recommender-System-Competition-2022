{
 "cells": [
  {
   "cell_type": "markdown",
   "metadata": {
    "id": "ktxdLosxtgZd",
    "pycharm": {
     "name": "#%% md\n"
    }
   },
   "source": [
    "# Light GCN Sample Notebook"
   ]
  },
  {
   "cell_type": "markdown",
   "metadata": {},
   "source": [
    "### Install Packages"
   ]
  },
  {
   "cell_type": "code",
   "execution_count": null,
   "metadata": {
    "execution": {
     "iopub.execute_input": "2022-10-04T20:08:49.119668Z",
     "iopub.status.busy": "2022-10-04T20:08:49.119311Z",
     "iopub.status.idle": "2022-10-04T20:08:49.125545Z",
     "shell.execute_reply": "2022-10-04T20:08:49.123868Z",
     "shell.execute_reply.started": "2022-10-04T20:08:49.119640Z"
    },
    "pycharm": {
     "is_executing": true
    }
   },
   "outputs": [
    {
     "name": "stdout",
     "output_type": "stream",
     "text": [
      "\u001B[33mWARNING: The directory '/Users/cshen/Library/Caches/pip' or its parent directory is not owned or is not writable by the current user. The cache has been disabled. Check the permissions and owner of that directory. If executing pip with sudo, you should use sudo's -H flag.\u001B[0m\r\n",
      "Looking in indexes: https://pypi.python.org/simple, https://pypi.apple.com/simple\r\n",
      "Collecting ipywidgets\r\n",
      "  Downloading https://pypi.apple.com/packages/packages/e4/56/990c10ca8751182ace2464cb0e4baafb7087a40c185c9142b9cd18683fac/ipywidgets-8.0.2-py3-none-any.whl (134 kB)\r\n",
      "\u001B[K     |████████████████████████████████| 134 kB 644 kB/s eta 0:00:01\r\n",
      "\u001B[?25hCollecting jupyterlab-widgets~=3.0\r\n",
      "  Downloading https://pypi.apple.com/packages/packages/d8/52/2f4b8f5975312fb58f4eacab2e6f6cfd2efd05704514a60a151a4e69d608/jupyterlab_widgets-3.0.3-py3-none-any.whl (384 kB)\r\n",
      "\u001B[K     |████████████████████████████████| 384 kB 38.1 MB/s eta 0:00:01\r\n",
      "\u001B[?25hRequirement already satisfied: traitlets>=4.3.1 in /Users/cshen/opt/anaconda3/envs/cs224w/lib/python3.8/site-packages (from ipywidgets) (5.1.1)\r\n",
      "Requirement already satisfied: ipykernel>=4.5.1 in /Users/cshen/opt/anaconda3/envs/cs224w/lib/python3.8/site-packages (from ipywidgets) (6.5.0)\r\n",
      "Requirement already satisfied: ipython>=6.1.0 in /Users/cshen/opt/anaconda3/envs/cs224w/lib/python3.8/site-packages (from ipywidgets) (7.29.0)\r\n",
      "Collecting widgetsnbextension~=4.0\r\n",
      "  Downloading https://pypi.apple.com/packages/packages/d7/ae/ee70b20dc836d935a9a6483339854c09d8752e55a8104668e2426cf3baf3/widgetsnbextension-4.0.3-py3-none-any.whl (2.0 MB)\r\n",
      "\u001B[K     |████████████████████████████████| 2.0 MB 95.6 MB/s eta 0:00:01\r\n",
      "\u001B[?25hRequirement already satisfied: jupyter-client<8.0 in /Users/cshen/opt/anaconda3/envs/cs224w/lib/python3.8/site-packages (from ipykernel>=4.5.1->ipywidgets) (7.0.6)\r\n",
      "Requirement already satisfied: matplotlib-inline<0.2.0,>=0.1.0 in /Users/cshen/opt/anaconda3/envs/cs224w/lib/python3.8/site-packages (from ipykernel>=4.5.1->ipywidgets) (0.1.3)\r\n",
      "Requirement already satisfied: debugpy<2.0,>=1.0.0 in /Users/cshen/opt/anaconda3/envs/cs224w/lib/python3.8/site-packages (from ipykernel>=4.5.1->ipywidgets) (1.5.1)\r\n",
      "Requirement already satisfied: appnope in /Users/cshen/opt/anaconda3/envs/cs224w/lib/python3.8/site-packages (from ipykernel>=4.5.1->ipywidgets) (0.1.2)\r\n",
      "Requirement already satisfied: tornado<7.0,>=4.2 in /Users/cshen/opt/anaconda3/envs/cs224w/lib/python3.8/site-packages (from ipykernel>=4.5.1->ipywidgets) (6.1)\r\n",
      "Requirement already satisfied: pexpect>4.3 in /Users/cshen/opt/anaconda3/envs/cs224w/lib/python3.8/site-packages (from ipython>=6.1.0->ipywidgets) (4.8.0)\r\n",
      "Requirement already satisfied: prompt-toolkit!=3.0.0,!=3.0.1,<3.1.0,>=2.0.0 in /Users/cshen/opt/anaconda3/envs/cs224w/lib/python3.8/site-packages (from ipython>=6.1.0->ipywidgets) (3.0.22)\r\n",
      "Requirement already satisfied: decorator in /Users/cshen/opt/anaconda3/envs/cs224w/lib/python3.8/site-packages (from ipython>=6.1.0->ipywidgets) (5.1.0)\r\n",
      "Requirement already satisfied: jedi>=0.16 in /Users/cshen/opt/anaconda3/envs/cs224w/lib/python3.8/site-packages (from ipython>=6.1.0->ipywidgets) (0.18.0)\r\n",
      "Requirement already satisfied: backcall in /Users/cshen/opt/anaconda3/envs/cs224w/lib/python3.8/site-packages (from ipython>=6.1.0->ipywidgets) (0.2.0)\r\n",
      "Requirement already satisfied: pickleshare in /Users/cshen/opt/anaconda3/envs/cs224w/lib/python3.8/site-packages (from ipython>=6.1.0->ipywidgets) (0.7.5)\r\n",
      "Requirement already satisfied: pygments in /Users/cshen/opt/anaconda3/envs/cs224w/lib/python3.8/site-packages (from ipython>=6.1.0->ipywidgets) (2.10.0)\r\n",
      "Requirement already satisfied: setuptools>=18.5 in /Users/cshen/opt/anaconda3/envs/cs224w/lib/python3.8/site-packages (from ipython>=6.1.0->ipywidgets) (58.0.4)\r\n",
      "Requirement already satisfied: parso<0.9.0,>=0.8.0 in /Users/cshen/opt/anaconda3/envs/cs224w/lib/python3.8/site-packages (from jedi>=0.16->ipython>=6.1.0->ipywidgets) (0.8.2)\r\n",
      "Requirement already satisfied: jupyter-core>=4.6.0 in /Users/cshen/opt/anaconda3/envs/cs224w/lib/python3.8/site-packages (from jupyter-client<8.0->ipykernel>=4.5.1->ipywidgets) (4.9.1)\r\n",
      "Requirement already satisfied: python-dateutil>=2.1 in /Users/cshen/opt/anaconda3/envs/cs224w/lib/python3.8/site-packages (from jupyter-client<8.0->ipykernel>=4.5.1->ipywidgets) (2.8.2)\r\n",
      "Requirement already satisfied: pyzmq>=13 in /Users/cshen/opt/anaconda3/envs/cs224w/lib/python3.8/site-packages (from jupyter-client<8.0->ipykernel>=4.5.1->ipywidgets) (22.3.0)\r\n",
      "Requirement already satisfied: entrypoints in /Users/cshen/opt/anaconda3/envs/cs224w/lib/python3.8/site-packages (from jupyter-client<8.0->ipykernel>=4.5.1->ipywidgets) (0.3)\r\n",
      "Requirement already satisfied: nest-asyncio>=1.5 in /Users/cshen/opt/anaconda3/envs/cs224w/lib/python3.8/site-packages (from jupyter-client<8.0->ipykernel>=4.5.1->ipywidgets) (1.5.1)\r\n",
      "Requirement already satisfied: ptyprocess>=0.5 in /Users/cshen/opt/anaconda3/envs/cs224w/lib/python3.8/site-packages (from pexpect>4.3->ipython>=6.1.0->ipywidgets) (0.7.0)\r\n",
      "Requirement already satisfied: wcwidth in /Users/cshen/opt/anaconda3/envs/cs224w/lib/python3.8/site-packages (from prompt-toolkit!=3.0.0,!=3.0.1,<3.1.0,>=2.0.0->ipython>=6.1.0->ipywidgets) (0.2.5)\r\n",
      "Requirement already satisfied: six>=1.5 in /Users/cshen/opt/anaconda3/envs/cs224w/lib/python3.8/site-packages (from python-dateutil>=2.1->jupyter-client<8.0->ipykernel>=4.5.1->ipywidgets) (1.16.0)\r\n",
      "Installing collected packages: widgetsnbextension, jupyterlab-widgets, ipywidgets\r\n",
      "Successfully installed ipywidgets-8.0.2 jupyterlab-widgets-3.0.3 widgetsnbextension-4.0.3\r\n",
      "\u001B[33mWARNING: The directory '/Users/cshen/Library/Caches/pip' or its parent directory is not owned or is not writable by the current user. The cache has been disabled. Check the permissions and owner of that directory. If executing pip with sudo, you should use sudo's -H flag.\u001B[0m\r\n",
      "\u001B[31m    ERROR: Command errored out with exit status 1:\r\n",
      "     command: /Users/cshen/opt/anaconda3/envs/cs224w/bin/python -c 'import io, os, sys, setuptools, tokenize; sys.argv[0] = '\"'\"'/private/var/folders/js/4mlqrrqj2tq5r1r46k956m3c0000gn/T/pip-install-b2pvrz6d/torch-scatter_322ef7db1c9f45c6919c7416f47fd058/setup.py'\"'\"'; __file__='\"'\"'/private/var/folders/js/4mlqrrqj2tq5r1r46k956m3c0000gn/T/pip-install-b2pvrz6d/torch-scatter_322ef7db1c9f45c6919c7416f47fd058/setup.py'\"'\"';f = getattr(tokenize, '\"'\"'open'\"'\"', open)(__file__) if os.path.exists(__file__) else io.StringIO('\"'\"'from setuptools import setup; setup()'\"'\"');code = f.read().replace('\"'\"'\\r\\n'\"'\"', '\"'\"'\\n'\"'\"');f.close();exec(compile(code, __file__, '\"'\"'exec'\"'\"'))' egg_info --egg-base /private/var/folders/js/4mlqrrqj2tq5r1r46k956m3c0000gn/T/pip-pip-egg-info-1vgftjy7\r\n",
      "         cwd: /private/var/folders/js/4mlqrrqj2tq5r1r46k956m3c0000gn/T/pip-install-b2pvrz6d/torch-scatter_322ef7db1c9f45c6919c7416f47fd058/\r\n",
      "    Complete output (5 lines):\r\n",
      "    Traceback (most recent call last):\r\n",
      "      File \"<string>\", line 1, in <module>\r\n",
      "      File \"/private/var/folders/js/4mlqrrqj2tq5r1r46k956m3c0000gn/T/pip-install-b2pvrz6d/torch-scatter_322ef7db1c9f45c6919c7416f47fd058/setup.py\", line 8, in <module>\r\n",
      "        import torch\r\n",
      "    ModuleNotFoundError: No module named 'torch'\r\n",
      "    ----------------------------------------\u001B[0m\r\n",
      "\u001B[33mWARNING: Discarding https://pypi.apple.com/packages/packages/1b/a0/6e44e887eb7fff78a9642035fe9662fc22c850a377369a52f308dd553104/torch_scatter-2.0.9.tar.gz#sha256=08f5511d64473badf0a71d156b36dc2b09b9c2f00a7cd373b935b490c477a7f1 (from https://pypi.apple.com/simple/torch-scatter/) (requires-python:>=3.6). Command errored out with exit status 1: python setup.py egg_info Check the logs for full command output.\u001B[0m\r\n",
      "\u001B[31m    ERROR: Command errored out with exit status 1:\r\n",
      "     command: /Users/cshen/opt/anaconda3/envs/cs224w/bin/python -c 'import io, os, sys, setuptools, tokenize; sys.argv[0] = '\"'\"'/private/var/folders/js/4mlqrrqj2tq5r1r46k956m3c0000gn/T/pip-install-b2pvrz6d/torch-scatter_1c8c1b4c97454169997ccae59f7918e9/setup.py'\"'\"'; __file__='\"'\"'/private/var/folders/js/4mlqrrqj2tq5r1r46k956m3c0000gn/T/pip-install-b2pvrz6d/torch-scatter_1c8c1b4c97454169997ccae59f7918e9/setup.py'\"'\"';f = getattr(tokenize, '\"'\"'open'\"'\"', open)(__file__) if os.path.exists(__file__) else io.StringIO('\"'\"'from setuptools import setup; setup()'\"'\"');code = f.read().replace('\"'\"'\\r\\n'\"'\"', '\"'\"'\\n'\"'\"');f.close();exec(compile(code, __file__, '\"'\"'exec'\"'\"'))' egg_info --egg-base /private/var/folders/js/4mlqrrqj2tq5r1r46k956m3c0000gn/T/pip-pip-egg-info-5fmrkm5z\r\n",
      "         cwd: /private/var/folders/js/4mlqrrqj2tq5r1r46k956m3c0000gn/T/pip-install-b2pvrz6d/torch-scatter_1c8c1b4c97454169997ccae59f7918e9/\r\n",
      "    Complete output (5 lines):\r\n",
      "    Traceback (most recent call last):\r\n",
      "      File \"<string>\", line 1, in <module>\r\n",
      "      File \"/private/var/folders/js/4mlqrrqj2tq5r1r46k956m3c0000gn/T/pip-install-b2pvrz6d/torch-scatter_1c8c1b4c97454169997ccae59f7918e9/setup.py\", line 8, in <module>\r\n",
      "        import torch\r\n",
      "    ModuleNotFoundError: No module named 'torch'\r\n",
      "    ----------------------------------------\u001B[0m\r\n",
      "\u001B[33mWARNING: Discarding https://files.pythonhosted.org/packages/1b/a0/6e44e887eb7fff78a9642035fe9662fc22c850a377369a52f308dd553104/torch_scatter-2.0.9.tar.gz#sha256=08f5511d64473badf0a71d156b36dc2b09b9c2f00a7cd373b935b490c477a7f1 (from https://pypi.org/simple/torch-scatter/) (requires-python:>=3.6). Command errored out with exit status 1: python setup.py egg_info Check the logs for full command output.\u001B[0m\r\n",
      "\u001B[31m    ERROR: Command errored out with exit status 1:\r\n",
      "     command: /Users/cshen/opt/anaconda3/envs/cs224w/bin/python -c 'import io, os, sys, setuptools, tokenize; sys.argv[0] = '\"'\"'/private/var/folders/js/4mlqrrqj2tq5r1r46k956m3c0000gn/T/pip-install-b2pvrz6d/torch-scatter_4102b7d11e7d4836849f6054a6228183/setup.py'\"'\"'; __file__='\"'\"'/private/var/folders/js/4mlqrrqj2tq5r1r46k956m3c0000gn/T/pip-install-b2pvrz6d/torch-scatter_4102b7d11e7d4836849f6054a6228183/setup.py'\"'\"';f = getattr(tokenize, '\"'\"'open'\"'\"', open)(__file__) if os.path.exists(__file__) else io.StringIO('\"'\"'from setuptools import setup; setup()'\"'\"');code = f.read().replace('\"'\"'\\r\\n'\"'\"', '\"'\"'\\n'\"'\"');f.close();exec(compile(code, __file__, '\"'\"'exec'\"'\"'))' egg_info --egg-base /private/var/folders/js/4mlqrrqj2tq5r1r46k956m3c0000gn/T/pip-pip-egg-info-fze1jrre\r\n",
      "         cwd: /private/var/folders/js/4mlqrrqj2tq5r1r46k956m3c0000gn/T/pip-install-b2pvrz6d/torch-scatter_4102b7d11e7d4836849f6054a6228183/\r\n",
      "    Complete output (5 lines):\r\n",
      "    Traceback (most recent call last):\r\n",
      "      File \"<string>\", line 1, in <module>\r\n",
      "      File \"/private/var/folders/js/4mlqrrqj2tq5r1r46k956m3c0000gn/T/pip-install-b2pvrz6d/torch-scatter_4102b7d11e7d4836849f6054a6228183/setup.py\", line 8, in <module>\r\n",
      "        import torch\r\n",
      "    ModuleNotFoundError: No module named 'torch'\r\n",
      "    ----------------------------------------\u001B[0m\r\n",
      "\u001B[33mWARNING: Discarding https://pypi.apple.com/packages/packages/a9/f0/cc0249cc963e50ea6d00f06a1930f84beebe37cf5ca83fbb50169d7e715a/torch_scatter-2.0.8.tar.gz#sha256=d71aab489b5288a6c96e9f9a7c9e13c54774dcb55a99a40e6cd1aca8be9ef3e6 (from https://pypi.apple.com/simple/torch-scatter/) (requires-python:>=3.6). Command errored out with exit status 1: python setup.py egg_info Check the logs for full command output.\u001B[0m\r\n",
      "\u001B[31m    ERROR: Command errored out with exit status 1:\r\n",
      "     command: /Users/cshen/opt/anaconda3/envs/cs224w/bin/python -c 'import io, os, sys, setuptools, tokenize; sys.argv[0] = '\"'\"'/private/var/folders/js/4mlqrrqj2tq5r1r46k956m3c0000gn/T/pip-install-b2pvrz6d/torch-scatter_2bbc4c78c1aa42c0815be9313135b3fd/setup.py'\"'\"'; __file__='\"'\"'/private/var/folders/js/4mlqrrqj2tq5r1r46k956m3c0000gn/T/pip-install-b2pvrz6d/torch-scatter_2bbc4c78c1aa42c0815be9313135b3fd/setup.py'\"'\"';f = getattr(tokenize, '\"'\"'open'\"'\"', open)(__file__) if os.path.exists(__file__) else io.StringIO('\"'\"'from setuptools import setup; setup()'\"'\"');code = f.read().replace('\"'\"'\\r\\n'\"'\"', '\"'\"'\\n'\"'\"');f.close();exec(compile(code, __file__, '\"'\"'exec'\"'\"'))' egg_info --egg-base /private/var/folders/js/4mlqrrqj2tq5r1r46k956m3c0000gn/T/pip-pip-egg-info-w_q4bge3\r\n",
      "         cwd: /private/var/folders/js/4mlqrrqj2tq5r1r46k956m3c0000gn/T/pip-install-b2pvrz6d/torch-scatter_2bbc4c78c1aa42c0815be9313135b3fd/\r\n",
      "    Complete output (5 lines):\r\n",
      "    Traceback (most recent call last):\r\n",
      "      File \"<string>\", line 1, in <module>\r\n",
      "      File \"/private/var/folders/js/4mlqrrqj2tq5r1r46k956m3c0000gn/T/pip-install-b2pvrz6d/torch-scatter_2bbc4c78c1aa42c0815be9313135b3fd/setup.py\", line 8, in <module>\r\n",
      "        import torch\r\n",
      "    ModuleNotFoundError: No module named 'torch'\r\n",
      "    ----------------------------------------\u001B[0m\r\n",
      "\u001B[33mWARNING: Discarding https://files.pythonhosted.org/packages/a9/f0/cc0249cc963e50ea6d00f06a1930f84beebe37cf5ca83fbb50169d7e715a/torch_scatter-2.0.8.tar.gz#sha256=d71aab489b5288a6c96e9f9a7c9e13c54774dcb55a99a40e6cd1aca8be9ef3e6 (from https://pypi.org/simple/torch-scatter/) (requires-python:>=3.6). Command errored out with exit status 1: python setup.py egg_info Check the logs for full command output.\u001B[0m\r\n",
      "\u001B[31m    ERROR: Command errored out with exit status 1:\r\n",
      "     command: /Users/cshen/opt/anaconda3/envs/cs224w/bin/python -c 'import io, os, sys, setuptools, tokenize; sys.argv[0] = '\"'\"'/private/var/folders/js/4mlqrrqj2tq5r1r46k956m3c0000gn/T/pip-install-b2pvrz6d/torch-scatter_465fe90af919457f94a29c1a86d8ffc2/setup.py'\"'\"'; __file__='\"'\"'/private/var/folders/js/4mlqrrqj2tq5r1r46k956m3c0000gn/T/pip-install-b2pvrz6d/torch-scatter_465fe90af919457f94a29c1a86d8ffc2/setup.py'\"'\"';f = getattr(tokenize, '\"'\"'open'\"'\"', open)(__file__) if os.path.exists(__file__) else io.StringIO('\"'\"'from setuptools import setup; setup()'\"'\"');code = f.read().replace('\"'\"'\\r\\n'\"'\"', '\"'\"'\\n'\"'\"');f.close();exec(compile(code, __file__, '\"'\"'exec'\"'\"'))' egg_info --egg-base /private/var/folders/js/4mlqrrqj2tq5r1r46k956m3c0000gn/T/pip-pip-egg-info-s3ecl_65\r\n",
      "         cwd: /private/var/folders/js/4mlqrrqj2tq5r1r46k956m3c0000gn/T/pip-install-b2pvrz6d/torch-scatter_465fe90af919457f94a29c1a86d8ffc2/\r\n",
      "    Complete output (5 lines):\r\n",
      "    Traceback (most recent call last):\r\n",
      "      File \"<string>\", line 1, in <module>\r\n",
      "      File \"/private/var/folders/js/4mlqrrqj2tq5r1r46k956m3c0000gn/T/pip-install-b2pvrz6d/torch-scatter_465fe90af919457f94a29c1a86d8ffc2/setup.py\", line 8, in <module>\r\n",
      "        import torch\r\n",
      "    ModuleNotFoundError: No module named 'torch'\r\n",
      "    ----------------------------------------\u001B[0m\r\n",
      "\u001B[33mWARNING: Discarding https://pypi.apple.com/packages/packages/fa/d1/0bade0c3b9222710528de0458ad48407dab46efd7ad3d4fd1be82b68ac2b/torch_scatter-2.0.7.tar.gz#sha256=369184948c838f756eea10464a3fbf8e103e22dc94d7045dbab85b5748bf85f9 (from https://pypi.apple.com/simple/torch-scatter/) (requires-python:>=3.6). Command errored out with exit status 1: python setup.py egg_info Check the logs for full command output.\u001B[0m\r\n",
      "\u001B[31m    ERROR: Command errored out with exit status 1:\r\n",
      "     command: /Users/cshen/opt/anaconda3/envs/cs224w/bin/python -c 'import io, os, sys, setuptools, tokenize; sys.argv[0] = '\"'\"'/private/var/folders/js/4mlqrrqj2tq5r1r46k956m3c0000gn/T/pip-install-b2pvrz6d/torch-scatter_663042d38fdb40e784ebb6c1d575d81d/setup.py'\"'\"'; __file__='\"'\"'/private/var/folders/js/4mlqrrqj2tq5r1r46k956m3c0000gn/T/pip-install-b2pvrz6d/torch-scatter_663042d38fdb40e784ebb6c1d575d81d/setup.py'\"'\"';f = getattr(tokenize, '\"'\"'open'\"'\"', open)(__file__) if os.path.exists(__file__) else io.StringIO('\"'\"'from setuptools import setup; setup()'\"'\"');code = f.read().replace('\"'\"'\\r\\n'\"'\"', '\"'\"'\\n'\"'\"');f.close();exec(compile(code, __file__, '\"'\"'exec'\"'\"'))' egg_info --egg-base /private/var/folders/js/4mlqrrqj2tq5r1r46k956m3c0000gn/T/pip-pip-egg-info-y7k_u4xw\r\n",
      "         cwd: /private/var/folders/js/4mlqrrqj2tq5r1r46k956m3c0000gn/T/pip-install-b2pvrz6d/torch-scatter_663042d38fdb40e784ebb6c1d575d81d/\r\n",
      "    Complete output (5 lines):\r\n",
      "    Traceback (most recent call last):\r\n",
      "      File \"<string>\", line 1, in <module>\r\n",
      "      File \"/private/var/folders/js/4mlqrrqj2tq5r1r46k956m3c0000gn/T/pip-install-b2pvrz6d/torch-scatter_663042d38fdb40e784ebb6c1d575d81d/setup.py\", line 8, in <module>\r\n",
      "        import torch\r\n",
      "    ModuleNotFoundError: No module named 'torch'\r\n",
      "    ----------------------------------------\u001B[0m\r\n",
      "\u001B[33mWARNING: Discarding https://files.pythonhosted.org/packages/fa/d1/0bade0c3b9222710528de0458ad48407dab46efd7ad3d4fd1be82b68ac2b/torch_scatter-2.0.7.tar.gz#sha256=369184948c838f756eea10464a3fbf8e103e22dc94d7045dbab85b5748bf85f9 (from https://pypi.org/simple/torch-scatter/) (requires-python:>=3.6). Command errored out with exit status 1: python setup.py egg_info Check the logs for full command output.\u001B[0m\r\n",
      "\u001B[31m    ERROR: Command errored out with exit status 1:\r\n",
      "     command: /Users/cshen/opt/anaconda3/envs/cs224w/bin/python -c 'import io, os, sys, setuptools, tokenize; sys.argv[0] = '\"'\"'/private/var/folders/js/4mlqrrqj2tq5r1r46k956m3c0000gn/T/pip-install-b2pvrz6d/torch-scatter_ae5b71fe7edc494bbcb38953e44beedc/setup.py'\"'\"'; __file__='\"'\"'/private/var/folders/js/4mlqrrqj2tq5r1r46k956m3c0000gn/T/pip-install-b2pvrz6d/torch-scatter_ae5b71fe7edc494bbcb38953e44beedc/setup.py'\"'\"';f = getattr(tokenize, '\"'\"'open'\"'\"', open)(__file__) if os.path.exists(__file__) else io.StringIO('\"'\"'from setuptools import setup; setup()'\"'\"');code = f.read().replace('\"'\"'\\r\\n'\"'\"', '\"'\"'\\n'\"'\"');f.close();exec(compile(code, __file__, '\"'\"'exec'\"'\"'))' egg_info --egg-base /private/var/folders/js/4mlqrrqj2tq5r1r46k956m3c0000gn/T/pip-pip-egg-info-de9ienel\r\n",
      "         cwd: /private/var/folders/js/4mlqrrqj2tq5r1r46k956m3c0000gn/T/pip-install-b2pvrz6d/torch-scatter_ae5b71fe7edc494bbcb38953e44beedc/\r\n",
      "    Complete output (5 lines):\r\n",
      "    Traceback (most recent call last):\r\n",
      "      File \"<string>\", line 1, in <module>\r\n",
      "      File \"/private/var/folders/js/4mlqrrqj2tq5r1r46k956m3c0000gn/T/pip-install-b2pvrz6d/torch-scatter_ae5b71fe7edc494bbcb38953e44beedc/setup.py\", line 8, in <module>\r\n",
      "        import torch\r\n",
      "    ModuleNotFoundError: No module named 'torch'\r\n",
      "    ----------------------------------------\u001B[0m\r\n",
      "\u001B[33mWARNING: Discarding https://pypi.apple.com/packages/packages/91/26/f2f0767a0e72c38d5d17f53117deb8aaafaf58f4ad658cee56cd5158c979/torch_scatter-2.0.6.tar.gz#sha256=2c664656a6c006d5221b2d51ce51eca0bbf39e85a180fdd6d3ad42cb28b5a536 (from https://pypi.apple.com/simple/torch-scatter/) (requires-python:>=3.6). Command errored out with exit status 1: python setup.py egg_info Check the logs for full command output.\u001B[0m\r\n",
      "\u001B[31m    ERROR: Command errored out with exit status 1:\r\n",
      "     command: /Users/cshen/opt/anaconda3/envs/cs224w/bin/python -c 'import io, os, sys, setuptools, tokenize; sys.argv[0] = '\"'\"'/private/var/folders/js/4mlqrrqj2tq5r1r46k956m3c0000gn/T/pip-install-b2pvrz6d/torch-scatter_ab74b49d362947bf8f9ef81ff798f43d/setup.py'\"'\"'; __file__='\"'\"'/private/var/folders/js/4mlqrrqj2tq5r1r46k956m3c0000gn/T/pip-install-b2pvrz6d/torch-scatter_ab74b49d362947bf8f9ef81ff798f43d/setup.py'\"'\"';f = getattr(tokenize, '\"'\"'open'\"'\"', open)(__file__) if os.path.exists(__file__) else io.StringIO('\"'\"'from setuptools import setup; setup()'\"'\"');code = f.read().replace('\"'\"'\\r\\n'\"'\"', '\"'\"'\\n'\"'\"');f.close();exec(compile(code, __file__, '\"'\"'exec'\"'\"'))' egg_info --egg-base /private/var/folders/js/4mlqrrqj2tq5r1r46k956m3c0000gn/T/pip-pip-egg-info-sywtpjgs\r\n",
      "         cwd: /private/var/folders/js/4mlqrrqj2tq5r1r46k956m3c0000gn/T/pip-install-b2pvrz6d/torch-scatter_ab74b49d362947bf8f9ef81ff798f43d/\r\n",
      "    Complete output (5 lines):\r\n",
      "    Traceback (most recent call last):\r\n",
      "      File \"<string>\", line 1, in <module>\r\n",
      "      File \"/private/var/folders/js/4mlqrrqj2tq5r1r46k956m3c0000gn/T/pip-install-b2pvrz6d/torch-scatter_ab74b49d362947bf8f9ef81ff798f43d/setup.py\", line 8, in <module>\r\n",
      "        import torch\r\n",
      "    ModuleNotFoundError: No module named 'torch'\r\n",
      "    ----------------------------------------\u001B[0m\r\n",
      "\u001B[33mWARNING: Discarding https://files.pythonhosted.org/packages/91/26/f2f0767a0e72c38d5d17f53117deb8aaafaf58f4ad658cee56cd5158c979/torch_scatter-2.0.6.tar.gz#sha256=2c664656a6c006d5221b2d51ce51eca0bbf39e85a180fdd6d3ad42cb28b5a536 (from https://pypi.org/simple/torch-scatter/) (requires-python:>=3.6). Command errored out with exit status 1: python setup.py egg_info Check the logs for full command output.\u001B[0m\r\n",
      "\u001B[31m    ERROR: Command errored out with exit status 1:\r\n",
      "     command: /Users/cshen/opt/anaconda3/envs/cs224w/bin/python -c 'import io, os, sys, setuptools, tokenize; sys.argv[0] = '\"'\"'/private/var/folders/js/4mlqrrqj2tq5r1r46k956m3c0000gn/T/pip-install-b2pvrz6d/torch-scatter_897192ca6bce4125835f5ddf7581e541/setup.py'\"'\"'; __file__='\"'\"'/private/var/folders/js/4mlqrrqj2tq5r1r46k956m3c0000gn/T/pip-install-b2pvrz6d/torch-scatter_897192ca6bce4125835f5ddf7581e541/setup.py'\"'\"';f = getattr(tokenize, '\"'\"'open'\"'\"', open)(__file__) if os.path.exists(__file__) else io.StringIO('\"'\"'from setuptools import setup; setup()'\"'\"');code = f.read().replace('\"'\"'\\r\\n'\"'\"', '\"'\"'\\n'\"'\"');f.close();exec(compile(code, __file__, '\"'\"'exec'\"'\"'))' egg_info --egg-base /private/var/folders/js/4mlqrrqj2tq5r1r46k956m3c0000gn/T/pip-pip-egg-info-rd10k61r\r\n",
      "         cwd: /private/var/folders/js/4mlqrrqj2tq5r1r46k956m3c0000gn/T/pip-install-b2pvrz6d/torch-scatter_897192ca6bce4125835f5ddf7581e541/\r\n",
      "    Complete output (5 lines):\r\n",
      "    Traceback (most recent call last):\r\n",
      "      File \"<string>\", line 1, in <module>\r\n",
      "      File \"/private/var/folders/js/4mlqrrqj2tq5r1r46k956m3c0000gn/T/pip-install-b2pvrz6d/torch-scatter_897192ca6bce4125835f5ddf7581e541/setup.py\", line 6, in <module>\r\n",
      "        import torch\r\n",
      "    ModuleNotFoundError: No module named 'torch'\r\n",
      "    ----------------------------------------\u001B[0m\r\n",
      "\u001B[33mWARNING: Discarding https://pypi.apple.com/packages/packages/01/45/cd93ed3227248773ba8bc4b3beaa04e8bddb127a793a41bad875369951b3/torch_scatter-2.0.5.tar.gz#sha256=148fbe634fb9e9465dbde2ab337138f63650ed8abbac42bb3f565e3fe92e9b2f (from https://pypi.apple.com/simple/torch-scatter/) (requires-python:>=3.6). Command errored out with exit status 1: python setup.py egg_info Check the logs for full command output.\u001B[0m\r\n",
      "\u001B[31m    ERROR: Command errored out with exit status 1:\r\n",
      "     command: /Users/cshen/opt/anaconda3/envs/cs224w/bin/python -c 'import io, os, sys, setuptools, tokenize; sys.argv[0] = '\"'\"'/private/var/folders/js/4mlqrrqj2tq5r1r46k956m3c0000gn/T/pip-install-b2pvrz6d/torch-scatter_3320f86b3d194f4d97dbc8f82884a9ac/setup.py'\"'\"'; __file__='\"'\"'/private/var/folders/js/4mlqrrqj2tq5r1r46k956m3c0000gn/T/pip-install-b2pvrz6d/torch-scatter_3320f86b3d194f4d97dbc8f82884a9ac/setup.py'\"'\"';f = getattr(tokenize, '\"'\"'open'\"'\"', open)(__file__) if os.path.exists(__file__) else io.StringIO('\"'\"'from setuptools import setup; setup()'\"'\"');code = f.read().replace('\"'\"'\\r\\n'\"'\"', '\"'\"'\\n'\"'\"');f.close();exec(compile(code, __file__, '\"'\"'exec'\"'\"'))' egg_info --egg-base /private/var/folders/js/4mlqrrqj2tq5r1r46k956m3c0000gn/T/pip-pip-egg-info-ad5q651_\r\n",
      "         cwd: /private/var/folders/js/4mlqrrqj2tq5r1r46k956m3c0000gn/T/pip-install-b2pvrz6d/torch-scatter_3320f86b3d194f4d97dbc8f82884a9ac/\r\n",
      "    Complete output (5 lines):\r\n",
      "    Traceback (most recent call last):\r\n",
      "      File \"<string>\", line 1, in <module>\r\n",
      "      File \"/private/var/folders/js/4mlqrrqj2tq5r1r46k956m3c0000gn/T/pip-install-b2pvrz6d/torch-scatter_3320f86b3d194f4d97dbc8f82884a9ac/setup.py\", line 6, in <module>\r\n",
      "        import torch\r\n",
      "    ModuleNotFoundError: No module named 'torch'\r\n",
      "    ----------------------------------------\u001B[0m\r\n",
      "\u001B[33mWARNING: Discarding https://files.pythonhosted.org/packages/01/45/cd93ed3227248773ba8bc4b3beaa04e8bddb127a793a41bad875369951b3/torch_scatter-2.0.5.tar.gz#sha256=148fbe634fb9e9465dbde2ab337138f63650ed8abbac42bb3f565e3fe92e9b2f (from https://pypi.org/simple/torch-scatter/) (requires-python:>=3.6). Command errored out with exit status 1: python setup.py egg_info Check the logs for full command output.\u001B[0m\r\n",
      "\u001B[31m    ERROR: Command errored out with exit status 1:\r\n",
      "     command: /Users/cshen/opt/anaconda3/envs/cs224w/bin/python -c 'import io, os, sys, setuptools, tokenize; sys.argv[0] = '\"'\"'/private/var/folders/js/4mlqrrqj2tq5r1r46k956m3c0000gn/T/pip-install-b2pvrz6d/torch-scatter_11e3e1460f37475a867e58e37bfee5cb/setup.py'\"'\"'; __file__='\"'\"'/private/var/folders/js/4mlqrrqj2tq5r1r46k956m3c0000gn/T/pip-install-b2pvrz6d/torch-scatter_11e3e1460f37475a867e58e37bfee5cb/setup.py'\"'\"';f = getattr(tokenize, '\"'\"'open'\"'\"', open)(__file__) if os.path.exists(__file__) else io.StringIO('\"'\"'from setuptools import setup; setup()'\"'\"');code = f.read().replace('\"'\"'\\r\\n'\"'\"', '\"'\"'\\n'\"'\"');f.close();exec(compile(code, __file__, '\"'\"'exec'\"'\"'))' egg_info --egg-base /private/var/folders/js/4mlqrrqj2tq5r1r46k956m3c0000gn/T/pip-pip-egg-info-a8q3watl\r\n",
      "         cwd: /private/var/folders/js/4mlqrrqj2tq5r1r46k956m3c0000gn/T/pip-install-b2pvrz6d/torch-scatter_11e3e1460f37475a867e58e37bfee5cb/\r\n",
      "    Complete output (5 lines):\r\n",
      "    Traceback (most recent call last):\r\n",
      "      File \"<string>\", line 1, in <module>\r\n",
      "      File \"/private/var/folders/js/4mlqrrqj2tq5r1r46k956m3c0000gn/T/pip-install-b2pvrz6d/torch-scatter_11e3e1460f37475a867e58e37bfee5cb/setup.py\", line 6, in <module>\r\n",
      "        import torch\r\n",
      "    ModuleNotFoundError: No module named 'torch'\r\n",
      "    ----------------------------------------\u001B[0m\r\n",
      "\u001B[33mWARNING: Discarding https://pypi.apple.com/packages/packages/98/a9/47cd92673b6ba251240d587815c763baac2099b07bb76fecdb3b7ae5cece/torch_scatter-2.0.4.tar.gz#sha256=db6c9eca919b86f3eb6102dd0e1215af72e39ed3a4e8d142e6a21d3f20d5c244 (from https://pypi.apple.com/simple/torch-scatter/) (requires-python:>=3.6). Command errored out with exit status 1: python setup.py egg_info Check the logs for full command output.\u001B[0m\r\n",
      "\u001B[31m    ERROR: Command errored out with exit status 1:\r\n",
      "     command: /Users/cshen/opt/anaconda3/envs/cs224w/bin/python -c 'import io, os, sys, setuptools, tokenize; sys.argv[0] = '\"'\"'/private/var/folders/js/4mlqrrqj2tq5r1r46k956m3c0000gn/T/pip-install-b2pvrz6d/torch-scatter_efc6aa4c8932492889b4174b346618e1/setup.py'\"'\"'; __file__='\"'\"'/private/var/folders/js/4mlqrrqj2tq5r1r46k956m3c0000gn/T/pip-install-b2pvrz6d/torch-scatter_efc6aa4c8932492889b4174b346618e1/setup.py'\"'\"';f = getattr(tokenize, '\"'\"'open'\"'\"', open)(__file__) if os.path.exists(__file__) else io.StringIO('\"'\"'from setuptools import setup; setup()'\"'\"');code = f.read().replace('\"'\"'\\r\\n'\"'\"', '\"'\"'\\n'\"'\"');f.close();exec(compile(code, __file__, '\"'\"'exec'\"'\"'))' egg_info --egg-base /private/var/folders/js/4mlqrrqj2tq5r1r46k956m3c0000gn/T/pip-pip-egg-info-a60wlqi6\r\n",
      "         cwd: /private/var/folders/js/4mlqrrqj2tq5r1r46k956m3c0000gn/T/pip-install-b2pvrz6d/torch-scatter_efc6aa4c8932492889b4174b346618e1/\r\n",
      "    Complete output (5 lines):\r\n",
      "    Traceback (most recent call last):\r\n",
      "      File \"<string>\", line 1, in <module>\r\n",
      "      File \"/private/var/folders/js/4mlqrrqj2tq5r1r46k956m3c0000gn/T/pip-install-b2pvrz6d/torch-scatter_efc6aa4c8932492889b4174b346618e1/setup.py\", line 6, in <module>\r\n",
      "        import torch\r\n",
      "    ModuleNotFoundError: No module named 'torch'\r\n",
      "    ----------------------------------------\u001B[0m\r\n",
      "\u001B[33mWARNING: Discarding https://files.pythonhosted.org/packages/98/a9/47cd92673b6ba251240d587815c763baac2099b07bb76fecdb3b7ae5cece/torch_scatter-2.0.4.tar.gz#sha256=db6c9eca919b86f3eb6102dd0e1215af72e39ed3a4e8d142e6a21d3f20d5c244 (from https://pypi.org/simple/torch-scatter/) (requires-python:>=3.6). Command errored out with exit status 1: python setup.py egg_info Check the logs for full command output.\u001B[0m\r\n",
      "\u001B[31m    ERROR: Command errored out with exit status 1:\r\n",
      "     command: /Users/cshen/opt/anaconda3/envs/cs224w/bin/python -c 'import io, os, sys, setuptools, tokenize; sys.argv[0] = '\"'\"'/private/var/folders/js/4mlqrrqj2tq5r1r46k956m3c0000gn/T/pip-install-b2pvrz6d/torch-scatter_b7077d6b24a34763918dcb869e9759f4/setup.py'\"'\"'; __file__='\"'\"'/private/var/folders/js/4mlqrrqj2tq5r1r46k956m3c0000gn/T/pip-install-b2pvrz6d/torch-scatter_b7077d6b24a34763918dcb869e9759f4/setup.py'\"'\"';f = getattr(tokenize, '\"'\"'open'\"'\"', open)(__file__) if os.path.exists(__file__) else io.StringIO('\"'\"'from setuptools import setup; setup()'\"'\"');code = f.read().replace('\"'\"'\\r\\n'\"'\"', '\"'\"'\\n'\"'\"');f.close();exec(compile(code, __file__, '\"'\"'exec'\"'\"'))' egg_info --egg-base /private/var/folders/js/4mlqrrqj2tq5r1r46k956m3c0000gn/T/pip-pip-egg-info-fmylpbsn\r\n",
      "         cwd: /private/var/folders/js/4mlqrrqj2tq5r1r46k956m3c0000gn/T/pip-install-b2pvrz6d/torch-scatter_b7077d6b24a34763918dcb869e9759f4/\r\n",
      "    Complete output (5 lines):\r\n",
      "    Traceback (most recent call last):\r\n",
      "      File \"<string>\", line 1, in <module>\r\n",
      "      File \"/private/var/folders/js/4mlqrrqj2tq5r1r46k956m3c0000gn/T/pip-install-b2pvrz6d/torch-scatter_b7077d6b24a34763918dcb869e9759f4/setup.py\", line 6, in <module>\r\n",
      "        import torch\r\n",
      "    ModuleNotFoundError: No module named 'torch'\r\n",
      "    ----------------------------------------\u001B[0m\r\n",
      "\u001B[33mWARNING: Discarding https://pypi.apple.com/packages/packages/36/2a/ef3d841ec577e2231662ef86af983c6c7c7d509a0e1d9f12949d0218b492/torch_scatter-2.0.3.tar.gz#sha256=1c4b9cb0f6a195c20d8c4b6230d086cae6965b7eb08f80bd2ec050a094b8e563 (from https://pypi.apple.com/simple/torch-scatter/) (requires-python:>=3.6). Command errored out with exit status 1: python setup.py egg_info Check the logs for full command output.\u001B[0m\r\n",
      "\u001B[31m    ERROR: Command errored out with exit status 1:\r\n",
      "     command: /Users/cshen/opt/anaconda3/envs/cs224w/bin/python -c 'import io, os, sys, setuptools, tokenize; sys.argv[0] = '\"'\"'/private/var/folders/js/4mlqrrqj2tq5r1r46k956m3c0000gn/T/pip-install-b2pvrz6d/torch-scatter_47586c695d1e4cb18ee1d90e0b9a52af/setup.py'\"'\"'; __file__='\"'\"'/private/var/folders/js/4mlqrrqj2tq5r1r46k956m3c0000gn/T/pip-install-b2pvrz6d/torch-scatter_47586c695d1e4cb18ee1d90e0b9a52af/setup.py'\"'\"';f = getattr(tokenize, '\"'\"'open'\"'\"', open)(__file__) if os.path.exists(__file__) else io.StringIO('\"'\"'from setuptools import setup; setup()'\"'\"');code = f.read().replace('\"'\"'\\r\\n'\"'\"', '\"'\"'\\n'\"'\"');f.close();exec(compile(code, __file__, '\"'\"'exec'\"'\"'))' egg_info --egg-base /private/var/folders/js/4mlqrrqj2tq5r1r46k956m3c0000gn/T/pip-pip-egg-info-i2viyr8_\r\n",
      "         cwd: /private/var/folders/js/4mlqrrqj2tq5r1r46k956m3c0000gn/T/pip-install-b2pvrz6d/torch-scatter_47586c695d1e4cb18ee1d90e0b9a52af/\r\n",
      "    Complete output (5 lines):\r\n",
      "    Traceback (most recent call last):\r\n",
      "      File \"<string>\", line 1, in <module>\r\n",
      "      File \"/private/var/folders/js/4mlqrrqj2tq5r1r46k956m3c0000gn/T/pip-install-b2pvrz6d/torch-scatter_47586c695d1e4cb18ee1d90e0b9a52af/setup.py\", line 6, in <module>\r\n",
      "        import torch\r\n",
      "    ModuleNotFoundError: No module named 'torch'\r\n",
      "    ----------------------------------------\u001B[0m\r\n",
      "\u001B[33mWARNING: Discarding https://files.pythonhosted.org/packages/36/2a/ef3d841ec577e2231662ef86af983c6c7c7d509a0e1d9f12949d0218b492/torch_scatter-2.0.3.tar.gz#sha256=1c4b9cb0f6a195c20d8c4b6230d086cae6965b7eb08f80bd2ec050a094b8e563 (from https://pypi.org/simple/torch-scatter/) (requires-python:>=3.6). Command errored out with exit status 1: python setup.py egg_info Check the logs for full command output.\u001B[0m\r\n",
      "\u001B[31m    ERROR: Command errored out with exit status 1:\r\n",
      "     command: /Users/cshen/opt/anaconda3/envs/cs224w/bin/python -c 'import io, os, sys, setuptools, tokenize; sys.argv[0] = '\"'\"'/private/var/folders/js/4mlqrrqj2tq5r1r46k956m3c0000gn/T/pip-install-b2pvrz6d/torch-scatter_a41c6bf6af6242edabc104163ffc1087/setup.py'\"'\"'; __file__='\"'\"'/private/var/folders/js/4mlqrrqj2tq5r1r46k956m3c0000gn/T/pip-install-b2pvrz6d/torch-scatter_a41c6bf6af6242edabc104163ffc1087/setup.py'\"'\"';f = getattr(tokenize, '\"'\"'open'\"'\"', open)(__file__) if os.path.exists(__file__) else io.StringIO('\"'\"'from setuptools import setup; setup()'\"'\"');code = f.read().replace('\"'\"'\\r\\n'\"'\"', '\"'\"'\\n'\"'\"');f.close();exec(compile(code, __file__, '\"'\"'exec'\"'\"'))' egg_info --egg-base /private/var/folders/js/4mlqrrqj2tq5r1r46k956m3c0000gn/T/pip-pip-egg-info-uu_cwnel\r\n",
      "         cwd: /private/var/folders/js/4mlqrrqj2tq5r1r46k956m3c0000gn/T/pip-install-b2pvrz6d/torch-scatter_a41c6bf6af6242edabc104163ffc1087/\r\n",
      "    Complete output (5 lines):\r\n",
      "    Traceback (most recent call last):\r\n",
      "      File \"<string>\", line 1, in <module>\r\n",
      "      File \"/private/var/folders/js/4mlqrrqj2tq5r1r46k956m3c0000gn/T/pip-install-b2pvrz6d/torch-scatter_a41c6bf6af6242edabc104163ffc1087/setup.py\", line 7, in <module>\r\n",
      "        import torch\r\n",
      "    ModuleNotFoundError: No module named 'torch'\r\n",
      "    ----------------------------------------\u001B[0m\r\n",
      "\u001B[33mWARNING: Discarding https://pypi.apple.com/packages/packages/28/f7/fa4e61587169924203a32416f7835939fdd79994eaa429b4f8ef8f0e07e2/torch_scatter-2.0.2.tar.gz#sha256=49d3059b7be93d3f2c328fdc6daa3a8479e3dc4a50c8247aef913177122db671 (from https://pypi.apple.com/simple/torch-scatter/). Command errored out with exit status 1: python setup.py egg_info Check the logs for full command output.\u001B[0m\r\n",
      "\u001B[31m    ERROR: Command errored out with exit status 1:\r\n",
      "     command: /Users/cshen/opt/anaconda3/envs/cs224w/bin/python -c 'import io, os, sys, setuptools, tokenize; sys.argv[0] = '\"'\"'/private/var/folders/js/4mlqrrqj2tq5r1r46k956m3c0000gn/T/pip-install-b2pvrz6d/torch-scatter_ccf6246452294961a4234b44bad698f5/setup.py'\"'\"'; __file__='\"'\"'/private/var/folders/js/4mlqrrqj2tq5r1r46k956m3c0000gn/T/pip-install-b2pvrz6d/torch-scatter_ccf6246452294961a4234b44bad698f5/setup.py'\"'\"';f = getattr(tokenize, '\"'\"'open'\"'\"', open)(__file__) if os.path.exists(__file__) else io.StringIO('\"'\"'from setuptools import setup; setup()'\"'\"');code = f.read().replace('\"'\"'\\r\\n'\"'\"', '\"'\"'\\n'\"'\"');f.close();exec(compile(code, __file__, '\"'\"'exec'\"'\"'))' egg_info --egg-base /private/var/folders/js/4mlqrrqj2tq5r1r46k956m3c0000gn/T/pip-pip-egg-info-dbeor72m\r\n",
      "         cwd: /private/var/folders/js/4mlqrrqj2tq5r1r46k956m3c0000gn/T/pip-install-b2pvrz6d/torch-scatter_ccf6246452294961a4234b44bad698f5/\r\n",
      "    Complete output (5 lines):\r\n",
      "    Traceback (most recent call last):\r\n",
      "      File \"<string>\", line 1, in <module>\r\n",
      "      File \"/private/var/folders/js/4mlqrrqj2tq5r1r46k956m3c0000gn/T/pip-install-b2pvrz6d/torch-scatter_ccf6246452294961a4234b44bad698f5/setup.py\", line 7, in <module>\r\n",
      "        import torch\r\n",
      "    ModuleNotFoundError: No module named 'torch'\r\n",
      "    ----------------------------------------\u001B[0m\r\n",
      "\u001B[33mWARNING: Discarding https://files.pythonhosted.org/packages/28/f7/fa4e61587169924203a32416f7835939fdd79994eaa429b4f8ef8f0e07e2/torch_scatter-2.0.2.tar.gz#sha256=49d3059b7be93d3f2c328fdc6daa3a8479e3dc4a50c8247aef913177122db671 (from https://pypi.org/simple/torch-scatter/). Command errored out with exit status 1: python setup.py egg_info Check the logs for full command output.\u001B[0m\r\n",
      "\u001B[31m    ERROR: Command errored out with exit status 1:\r\n",
      "     command: /Users/cshen/opt/anaconda3/envs/cs224w/bin/python -c 'import io, os, sys, setuptools, tokenize; sys.argv[0] = '\"'\"'/private/var/folders/js/4mlqrrqj2tq5r1r46k956m3c0000gn/T/pip-install-b2pvrz6d/torch-scatter_f2d48a05706d41a3b4d660ff66f4b907/setup.py'\"'\"'; __file__='\"'\"'/private/var/folders/js/4mlqrrqj2tq5r1r46k956m3c0000gn/T/pip-install-b2pvrz6d/torch-scatter_f2d48a05706d41a3b4d660ff66f4b907/setup.py'\"'\"';f = getattr(tokenize, '\"'\"'open'\"'\"', open)(__file__) if os.path.exists(__file__) else io.StringIO('\"'\"'from setuptools import setup; setup()'\"'\"');code = f.read().replace('\"'\"'\\r\\n'\"'\"', '\"'\"'\\n'\"'\"');f.close();exec(compile(code, __file__, '\"'\"'exec'\"'\"'))' egg_info --egg-base /private/var/folders/js/4mlqrrqj2tq5r1r46k956m3c0000gn/T/pip-pip-egg-info-pl9n9llb\r\n",
      "         cwd: /private/var/folders/js/4mlqrrqj2tq5r1r46k956m3c0000gn/T/pip-install-b2pvrz6d/torch-scatter_f2d48a05706d41a3b4d660ff66f4b907/\r\n",
      "    Complete output (5 lines):\r\n",
      "    Traceback (most recent call last):\r\n",
      "      File \"<string>\", line 1, in <module>\r\n",
      "      File \"/private/var/folders/js/4mlqrrqj2tq5r1r46k956m3c0000gn/T/pip-install-b2pvrz6d/torch-scatter_f2d48a05706d41a3b4d660ff66f4b907/setup.py\", line 3, in <module>\r\n",
      "        import torch\r\n",
      "    ModuleNotFoundError: No module named 'torch'\r\n",
      "    ----------------------------------------\u001B[0m\r\n",
      "\u001B[33mWARNING: Discarding https://pypi.apple.com/packages/packages/b8/c3/8bad887ffa55c86f120ef5ae252dc0e357b3bd956d9fbf45242bacc46290/torch_scatter-1.4.0.tar.gz#sha256=5999ef256154e5a99445118c1a53f95cf0f95ef7b5cd8d3b256101125479cc2e (from https://pypi.apple.com/simple/torch-scatter/). Command errored out with exit status 1: python setup.py egg_info Check the logs for full command output.\u001B[0m\r\n",
      "\u001B[31m    ERROR: Command errored out with exit status 1:\r\n",
      "     command: /Users/cshen/opt/anaconda3/envs/cs224w/bin/python -c 'import io, os, sys, setuptools, tokenize; sys.argv[0] = '\"'\"'/private/var/folders/js/4mlqrrqj2tq5r1r46k956m3c0000gn/T/pip-install-b2pvrz6d/torch-scatter_c3ffd131208749d98697a35dbb4f33ab/setup.py'\"'\"'; __file__='\"'\"'/private/var/folders/js/4mlqrrqj2tq5r1r46k956m3c0000gn/T/pip-install-b2pvrz6d/torch-scatter_c3ffd131208749d98697a35dbb4f33ab/setup.py'\"'\"';f = getattr(tokenize, '\"'\"'open'\"'\"', open)(__file__) if os.path.exists(__file__) else io.StringIO('\"'\"'from setuptools import setup; setup()'\"'\"');code = f.read().replace('\"'\"'\\r\\n'\"'\"', '\"'\"'\\n'\"'\"');f.close();exec(compile(code, __file__, '\"'\"'exec'\"'\"'))' egg_info --egg-base /private/var/folders/js/4mlqrrqj2tq5r1r46k956m3c0000gn/T/pip-pip-egg-info-36kb1vj0\r\n",
      "         cwd: /private/var/folders/js/4mlqrrqj2tq5r1r46k956m3c0000gn/T/pip-install-b2pvrz6d/torch-scatter_c3ffd131208749d98697a35dbb4f33ab/\r\n",
      "    Complete output (5 lines):\r\n",
      "    Traceback (most recent call last):\r\n",
      "      File \"<string>\", line 1, in <module>\r\n",
      "      File \"/private/var/folders/js/4mlqrrqj2tq5r1r46k956m3c0000gn/T/pip-install-b2pvrz6d/torch-scatter_c3ffd131208749d98697a35dbb4f33ab/setup.py\", line 3, in <module>\r\n",
      "        import torch\r\n",
      "    ModuleNotFoundError: No module named 'torch'\r\n",
      "    ----------------------------------------\u001B[0m\r\n",
      "\u001B[33mWARNING: Discarding https://files.pythonhosted.org/packages/b8/c3/8bad887ffa55c86f120ef5ae252dc0e357b3bd956d9fbf45242bacc46290/torch_scatter-1.4.0.tar.gz#sha256=5999ef256154e5a99445118c1a53f95cf0f95ef7b5cd8d3b256101125479cc2e (from https://pypi.org/simple/torch-scatter/). Command errored out with exit status 1: python setup.py egg_info Check the logs for full command output.\u001B[0m\r\n",
      "\u001B[31m    ERROR: Command errored out with exit status 1:\r\n",
      "     command: /Users/cshen/opt/anaconda3/envs/cs224w/bin/python -c 'import io, os, sys, setuptools, tokenize; sys.argv[0] = '\"'\"'/private/var/folders/js/4mlqrrqj2tq5r1r46k956m3c0000gn/T/pip-install-b2pvrz6d/torch-scatter_3b02ed21755547f9b324565481d2b09a/setup.py'\"'\"'; __file__='\"'\"'/private/var/folders/js/4mlqrrqj2tq5r1r46k956m3c0000gn/T/pip-install-b2pvrz6d/torch-scatter_3b02ed21755547f9b324565481d2b09a/setup.py'\"'\"';f = getattr(tokenize, '\"'\"'open'\"'\"', open)(__file__) if os.path.exists(__file__) else io.StringIO('\"'\"'from setuptools import setup; setup()'\"'\"');code = f.read().replace('\"'\"'\\r\\n'\"'\"', '\"'\"'\\n'\"'\"');f.close();exec(compile(code, __file__, '\"'\"'exec'\"'\"'))' egg_info --egg-base /private/var/folders/js/4mlqrrqj2tq5r1r46k956m3c0000gn/T/pip-pip-egg-info-no6drvjm\r\n",
      "         cwd: /private/var/folders/js/4mlqrrqj2tq5r1r46k956m3c0000gn/T/pip-install-b2pvrz6d/torch-scatter_3b02ed21755547f9b324565481d2b09a/\r\n",
      "    Complete output (5 lines):\r\n",
      "    Traceback (most recent call last):\r\n",
      "      File \"<string>\", line 1, in <module>\r\n",
      "      File \"/private/var/folders/js/4mlqrrqj2tq5r1r46k956m3c0000gn/T/pip-install-b2pvrz6d/torch-scatter_3b02ed21755547f9b324565481d2b09a/setup.py\", line 3, in <module>\r\n",
      "        import torch\r\n",
      "    ModuleNotFoundError: No module named 'torch'\r\n",
      "    ----------------------------------------\u001B[0m\r\n",
      "\u001B[33mWARNING: Discarding https://pypi.apple.com/packages/packages/30/d9/1d5fd4d183dabd9e0a1f7008ecf83318432359f4cc27480e3f2212f44d9c/torch_scatter-1.3.2.tar.gz#sha256=890e8f9da2d57431912182960b71bf6c56397de42c2464907a6e9c583164bf06 (from https://pypi.apple.com/simple/torch-scatter/). Command errored out with exit status 1: python setup.py egg_info Check the logs for full command output.\u001B[0m\r\n",
      "\u001B[31m    ERROR: Command errored out with exit status 1:\r\n",
      "     command: /Users/cshen/opt/anaconda3/envs/cs224w/bin/python -c 'import io, os, sys, setuptools, tokenize; sys.argv[0] = '\"'\"'/private/var/folders/js/4mlqrrqj2tq5r1r46k956m3c0000gn/T/pip-install-b2pvrz6d/torch-scatter_951719d6e1aa4eee9a5043996e5ee666/setup.py'\"'\"'; __file__='\"'\"'/private/var/folders/js/4mlqrrqj2tq5r1r46k956m3c0000gn/T/pip-install-b2pvrz6d/torch-scatter_951719d6e1aa4eee9a5043996e5ee666/setup.py'\"'\"';f = getattr(tokenize, '\"'\"'open'\"'\"', open)(__file__) if os.path.exists(__file__) else io.StringIO('\"'\"'from setuptools import setup; setup()'\"'\"');code = f.read().replace('\"'\"'\\r\\n'\"'\"', '\"'\"'\\n'\"'\"');f.close();exec(compile(code, __file__, '\"'\"'exec'\"'\"'))' egg_info --egg-base /private/var/folders/js/4mlqrrqj2tq5r1r46k956m3c0000gn/T/pip-pip-egg-info-yelnze85\r\n",
      "         cwd: /private/var/folders/js/4mlqrrqj2tq5r1r46k956m3c0000gn/T/pip-install-b2pvrz6d/torch-scatter_951719d6e1aa4eee9a5043996e5ee666/\r\n",
      "    Complete output (5 lines):\r\n",
      "    Traceback (most recent call last):\r\n",
      "      File \"<string>\", line 1, in <module>\r\n",
      "      File \"/private/var/folders/js/4mlqrrqj2tq5r1r46k956m3c0000gn/T/pip-install-b2pvrz6d/torch-scatter_951719d6e1aa4eee9a5043996e5ee666/setup.py\", line 3, in <module>\r\n",
      "        import torch\r\n",
      "    ModuleNotFoundError: No module named 'torch'\r\n",
      "    ----------------------------------------\u001B[0m\r\n",
      "\u001B[33mWARNING: Discarding https://files.pythonhosted.org/packages/30/d9/1d5fd4d183dabd9e0a1f7008ecf83318432359f4cc27480e3f2212f44d9c/torch_scatter-1.3.2.tar.gz#sha256=890e8f9da2d57431912182960b71bf6c56397de42c2464907a6e9c583164bf06 (from https://pypi.org/simple/torch-scatter/). Command errored out with exit status 1: python setup.py egg_info Check the logs for full command output.\u001B[0m\r\n",
      "\u001B[31m    ERROR: Command errored out with exit status 1:\r\n",
      "     command: /Users/cshen/opt/anaconda3/envs/cs224w/bin/python -c 'import io, os, sys, setuptools, tokenize; sys.argv[0] = '\"'\"'/private/var/folders/js/4mlqrrqj2tq5r1r46k956m3c0000gn/T/pip-install-b2pvrz6d/torch-scatter_249973c0ede740a39d1f4ef73a4508be/setup.py'\"'\"'; __file__='\"'\"'/private/var/folders/js/4mlqrrqj2tq5r1r46k956m3c0000gn/T/pip-install-b2pvrz6d/torch-scatter_249973c0ede740a39d1f4ef73a4508be/setup.py'\"'\"';f = getattr(tokenize, '\"'\"'open'\"'\"', open)(__file__) if os.path.exists(__file__) else io.StringIO('\"'\"'from setuptools import setup; setup()'\"'\"');code = f.read().replace('\"'\"'\\r\\n'\"'\"', '\"'\"'\\n'\"'\"');f.close();exec(compile(code, __file__, '\"'\"'exec'\"'\"'))' egg_info --egg-base /private/var/folders/js/4mlqrrqj2tq5r1r46k956m3c0000gn/T/pip-pip-egg-info-w3pqendx\r\n",
      "         cwd: /private/var/folders/js/4mlqrrqj2tq5r1r46k956m3c0000gn/T/pip-install-b2pvrz6d/torch-scatter_249973c0ede740a39d1f4ef73a4508be/\r\n",
      "    Complete output (5 lines):\r\n",
      "    Traceback (most recent call last):\r\n",
      "      File \"<string>\", line 1, in <module>\r\n",
      "      File \"/private/var/folders/js/4mlqrrqj2tq5r1r46k956m3c0000gn/T/pip-install-b2pvrz6d/torch-scatter_249973c0ede740a39d1f4ef73a4508be/setup.py\", line 3, in <module>\r\n",
      "        import torch\r\n",
      "    ModuleNotFoundError: No module named 'torch'\r\n",
      "    ----------------------------------------\u001B[0m\r\n",
      "\u001B[33mWARNING: Discarding https://pypi.apple.com/packages/packages/35/d4/750403a8aa32cdb3d2d05849c6a10e4e0604de5e0cc94b81a0d0d69a75f3/torch_scatter-1.3.1.tar.gz#sha256=54cbad248350165ddc921ded3fe7a69be5d30c6536273a1a3282e375289f86ec (from https://pypi.apple.com/simple/torch-scatter/). Command errored out with exit status 1: python setup.py egg_info Check the logs for full command output.\u001B[0m\r\n",
      "\u001B[31m    ERROR: Command errored out with exit status 1:\r\n",
      "     command: /Users/cshen/opt/anaconda3/envs/cs224w/bin/python -c 'import io, os, sys, setuptools, tokenize; sys.argv[0] = '\"'\"'/private/var/folders/js/4mlqrrqj2tq5r1r46k956m3c0000gn/T/pip-install-b2pvrz6d/torch-scatter_c8b1c09f2809410599bef93d0eb4a531/setup.py'\"'\"'; __file__='\"'\"'/private/var/folders/js/4mlqrrqj2tq5r1r46k956m3c0000gn/T/pip-install-b2pvrz6d/torch-scatter_c8b1c09f2809410599bef93d0eb4a531/setup.py'\"'\"';f = getattr(tokenize, '\"'\"'open'\"'\"', open)(__file__) if os.path.exists(__file__) else io.StringIO('\"'\"'from setuptools import setup; setup()'\"'\"');code = f.read().replace('\"'\"'\\r\\n'\"'\"', '\"'\"'\\n'\"'\"');f.close();exec(compile(code, __file__, '\"'\"'exec'\"'\"'))' egg_info --egg-base /private/var/folders/js/4mlqrrqj2tq5r1r46k956m3c0000gn/T/pip-pip-egg-info-7q0hl6al\r\n",
      "         cwd: /private/var/folders/js/4mlqrrqj2tq5r1r46k956m3c0000gn/T/pip-install-b2pvrz6d/torch-scatter_c8b1c09f2809410599bef93d0eb4a531/\r\n",
      "    Complete output (5 lines):\r\n",
      "    Traceback (most recent call last):\r\n",
      "      File \"<string>\", line 1, in <module>\r\n",
      "      File \"/private/var/folders/js/4mlqrrqj2tq5r1r46k956m3c0000gn/T/pip-install-b2pvrz6d/torch-scatter_c8b1c09f2809410599bef93d0eb4a531/setup.py\", line 3, in <module>\r\n",
      "        import torch\r\n",
      "    ModuleNotFoundError: No module named 'torch'\r\n",
      "    ----------------------------------------\u001B[0m\r\n",
      "\u001B[33mWARNING: Discarding https://files.pythonhosted.org/packages/35/d4/750403a8aa32cdb3d2d05849c6a10e4e0604de5e0cc94b81a0d0d69a75f3/torch_scatter-1.3.1.tar.gz#sha256=54cbad248350165ddc921ded3fe7a69be5d30c6536273a1a3282e375289f86ec (from https://pypi.org/simple/torch-scatter/). Command errored out with exit status 1: python setup.py egg_info Check the logs for full command output.\u001B[0m\r\n",
      "\u001B[31m    ERROR: Command errored out with exit status 1:\r\n",
      "     command: /Users/cshen/opt/anaconda3/envs/cs224w/bin/python -c 'import io, os, sys, setuptools, tokenize; sys.argv[0] = '\"'\"'/private/var/folders/js/4mlqrrqj2tq5r1r46k956m3c0000gn/T/pip-install-b2pvrz6d/torch-scatter_cdb35cec81614406a9595c3bd5de87b8/setup.py'\"'\"'; __file__='\"'\"'/private/var/folders/js/4mlqrrqj2tq5r1r46k956m3c0000gn/T/pip-install-b2pvrz6d/torch-scatter_cdb35cec81614406a9595c3bd5de87b8/setup.py'\"'\"';f = getattr(tokenize, '\"'\"'open'\"'\"', open)(__file__) if os.path.exists(__file__) else io.StringIO('\"'\"'from setuptools import setup; setup()'\"'\"');code = f.read().replace('\"'\"'\\r\\n'\"'\"', '\"'\"'\\n'\"'\"');f.close();exec(compile(code, __file__, '\"'\"'exec'\"'\"'))' egg_info --egg-base /private/var/folders/js/4mlqrrqj2tq5r1r46k956m3c0000gn/T/pip-pip-egg-info-ebbtt5tn\r\n",
      "         cwd: /private/var/folders/js/4mlqrrqj2tq5r1r46k956m3c0000gn/T/pip-install-b2pvrz6d/torch-scatter_cdb35cec81614406a9595c3bd5de87b8/\r\n",
      "    Complete output (5 lines):\r\n",
      "    Traceback (most recent call last):\r\n",
      "      File \"<string>\", line 1, in <module>\r\n",
      "      File \"/private/var/folders/js/4mlqrrqj2tq5r1r46k956m3c0000gn/T/pip-install-b2pvrz6d/torch-scatter_cdb35cec81614406a9595c3bd5de87b8/setup.py\", line 3, in <module>\r\n",
      "        import torch\r\n",
      "    ModuleNotFoundError: No module named 'torch'\r\n",
      "    ----------------------------------------\u001B[0m\r\n",
      "\u001B[33mWARNING: Discarding https://pypi.apple.com/packages/packages/24/b7/680c3b392a4b55a0ebfb480aabb0d5c188e94bb21790104175c8cd614947/torch_scatter-1.3.0.tar.gz#sha256=bf7d561b8ef12b39a99f5797c90b989a0ce2c3ee4de74dff3b170f2d8566e1d4 (from https://pypi.apple.com/simple/torch-scatter/). Command errored out with exit status 1: python setup.py egg_info Check the logs for full command output.\u001B[0m\r\n",
      "\u001B[31m    ERROR: Command errored out with exit status 1:\r\n",
      "     command: /Users/cshen/opt/anaconda3/envs/cs224w/bin/python -c 'import io, os, sys, setuptools, tokenize; sys.argv[0] = '\"'\"'/private/var/folders/js/4mlqrrqj2tq5r1r46k956m3c0000gn/T/pip-install-b2pvrz6d/torch-scatter_6fa5212743454b609d593275e69b8b16/setup.py'\"'\"'; __file__='\"'\"'/private/var/folders/js/4mlqrrqj2tq5r1r46k956m3c0000gn/T/pip-install-b2pvrz6d/torch-scatter_6fa5212743454b609d593275e69b8b16/setup.py'\"'\"';f = getattr(tokenize, '\"'\"'open'\"'\"', open)(__file__) if os.path.exists(__file__) else io.StringIO('\"'\"'from setuptools import setup; setup()'\"'\"');code = f.read().replace('\"'\"'\\r\\n'\"'\"', '\"'\"'\\n'\"'\"');f.close();exec(compile(code, __file__, '\"'\"'exec'\"'\"'))' egg_info --egg-base /private/var/folders/js/4mlqrrqj2tq5r1r46k956m3c0000gn/T/pip-pip-egg-info-e6lmsnl2\r\n",
      "         cwd: /private/var/folders/js/4mlqrrqj2tq5r1r46k956m3c0000gn/T/pip-install-b2pvrz6d/torch-scatter_6fa5212743454b609d593275e69b8b16/\r\n",
      "    Complete output (5 lines):\r\n",
      "    Traceback (most recent call last):\r\n",
      "      File \"<string>\", line 1, in <module>\r\n",
      "      File \"/private/var/folders/js/4mlqrrqj2tq5r1r46k956m3c0000gn/T/pip-install-b2pvrz6d/torch-scatter_6fa5212743454b609d593275e69b8b16/setup.py\", line 3, in <module>\r\n",
      "        import torch\r\n",
      "    ModuleNotFoundError: No module named 'torch'\r\n",
      "    ----------------------------------------\u001B[0m\r\n",
      "\u001B[33mWARNING: Discarding https://files.pythonhosted.org/packages/24/b7/680c3b392a4b55a0ebfb480aabb0d5c188e94bb21790104175c8cd614947/torch_scatter-1.3.0.tar.gz#sha256=bf7d561b8ef12b39a99f5797c90b989a0ce2c3ee4de74dff3b170f2d8566e1d4 (from https://pypi.org/simple/torch-scatter/). Command errored out with exit status 1: python setup.py egg_info Check the logs for full command output.\u001B[0m\r\n",
      "\u001B[31m    ERROR: Command errored out with exit status 1:\r\n",
      "     command: /Users/cshen/opt/anaconda3/envs/cs224w/bin/python -c 'import io, os, sys, setuptools, tokenize; sys.argv[0] = '\"'\"'/private/var/folders/js/4mlqrrqj2tq5r1r46k956m3c0000gn/T/pip-install-b2pvrz6d/torch-scatter_7de516d8be4040cb8300d4f554ac521a/setup.py'\"'\"'; __file__='\"'\"'/private/var/folders/js/4mlqrrqj2tq5r1r46k956m3c0000gn/T/pip-install-b2pvrz6d/torch-scatter_7de516d8be4040cb8300d4f554ac521a/setup.py'\"'\"';f = getattr(tokenize, '\"'\"'open'\"'\"', open)(__file__) if os.path.exists(__file__) else io.StringIO('\"'\"'from setuptools import setup; setup()'\"'\"');code = f.read().replace('\"'\"'\\r\\n'\"'\"', '\"'\"'\\n'\"'\"');f.close();exec(compile(code, __file__, '\"'\"'exec'\"'\"'))' egg_info --egg-base /private/var/folders/js/4mlqrrqj2tq5r1r46k956m3c0000gn/T/pip-pip-egg-info-ptwy6bsu\r\n",
      "         cwd: /private/var/folders/js/4mlqrrqj2tq5r1r46k956m3c0000gn/T/pip-install-b2pvrz6d/torch-scatter_7de516d8be4040cb8300d4f554ac521a/\r\n",
      "    Complete output (5 lines):\r\n",
      "    Traceback (most recent call last):\r\n",
      "      File \"<string>\", line 1, in <module>\r\n",
      "      File \"/private/var/folders/js/4mlqrrqj2tq5r1r46k956m3c0000gn/T/pip-install-b2pvrz6d/torch-scatter_7de516d8be4040cb8300d4f554ac521a/setup.py\", line 3, in <module>\r\n",
      "        import torch\r\n",
      "    ModuleNotFoundError: No module named 'torch'\r\n",
      "    ----------------------------------------\u001B[0m\r\n",
      "\u001B[33mWARNING: Discarding https://pypi.apple.com/packages/packages/07/c0/f7ac424496f4a3bcb31aa993fba29077a6d42fc2624c66e90b58a566a98e/torch_scatter-1.2.0.tar.gz#sha256=3a0259105d07d264c740eec8e4267260a5c144cf55472abd26022fff4fd73281 (from https://pypi.apple.com/simple/torch-scatter/). Command errored out with exit status 1: python setup.py egg_info Check the logs for full command output.\u001B[0m\r\n",
      "\u001B[31m    ERROR: Command errored out with exit status 1:\r\n",
      "     command: /Users/cshen/opt/anaconda3/envs/cs224w/bin/python -c 'import io, os, sys, setuptools, tokenize; sys.argv[0] = '\"'\"'/private/var/folders/js/4mlqrrqj2tq5r1r46k956m3c0000gn/T/pip-install-b2pvrz6d/torch-scatter_9ac57039947545b6a8997ceb85cc7bec/setup.py'\"'\"'; __file__='\"'\"'/private/var/folders/js/4mlqrrqj2tq5r1r46k956m3c0000gn/T/pip-install-b2pvrz6d/torch-scatter_9ac57039947545b6a8997ceb85cc7bec/setup.py'\"'\"';f = getattr(tokenize, '\"'\"'open'\"'\"', open)(__file__) if os.path.exists(__file__) else io.StringIO('\"'\"'from setuptools import setup; setup()'\"'\"');code = f.read().replace('\"'\"'\\r\\n'\"'\"', '\"'\"'\\n'\"'\"');f.close();exec(compile(code, __file__, '\"'\"'exec'\"'\"'))' egg_info --egg-base /private/var/folders/js/4mlqrrqj2tq5r1r46k956m3c0000gn/T/pip-pip-egg-info-i69w_xf4\r\n",
      "         cwd: /private/var/folders/js/4mlqrrqj2tq5r1r46k956m3c0000gn/T/pip-install-b2pvrz6d/torch-scatter_9ac57039947545b6a8997ceb85cc7bec/\r\n",
      "    Complete output (5 lines):\r\n",
      "    Traceback (most recent call last):\r\n",
      "      File \"<string>\", line 1, in <module>\r\n",
      "      File \"/private/var/folders/js/4mlqrrqj2tq5r1r46k956m3c0000gn/T/pip-install-b2pvrz6d/torch-scatter_9ac57039947545b6a8997ceb85cc7bec/setup.py\", line 3, in <module>\r\n",
      "        import torch\r\n",
      "    ModuleNotFoundError: No module named 'torch'\r\n",
      "    ----------------------------------------\u001B[0m\r\n",
      "\u001B[33mWARNING: Discarding https://files.pythonhosted.org/packages/07/c0/f7ac424496f4a3bcb31aa993fba29077a6d42fc2624c66e90b58a566a98e/torch_scatter-1.2.0.tar.gz#sha256=3a0259105d07d264c740eec8e4267260a5c144cf55472abd26022fff4fd73281 (from https://pypi.org/simple/torch-scatter/). Command errored out with exit status 1: python setup.py egg_info Check the logs for full command output.\u001B[0m\r\n",
      "\u001B[31m    ERROR: Command errored out with exit status 1:\r\n",
      "     command: /Users/cshen/opt/anaconda3/envs/cs224w/bin/python -c 'import io, os, sys, setuptools, tokenize; sys.argv[0] = '\"'\"'/private/var/folders/js/4mlqrrqj2tq5r1r46k956m3c0000gn/T/pip-install-b2pvrz6d/torch-scatter_3620445ab6ee4afca88125e4f85fe0b7/setup.py'\"'\"'; __file__='\"'\"'/private/var/folders/js/4mlqrrqj2tq5r1r46k956m3c0000gn/T/pip-install-b2pvrz6d/torch-scatter_3620445ab6ee4afca88125e4f85fe0b7/setup.py'\"'\"';f = getattr(tokenize, '\"'\"'open'\"'\"', open)(__file__) if os.path.exists(__file__) else io.StringIO('\"'\"'from setuptools import setup; setup()'\"'\"');code = f.read().replace('\"'\"'\\r\\n'\"'\"', '\"'\"'\\n'\"'\"');f.close();exec(compile(code, __file__, '\"'\"'exec'\"'\"'))' egg_info --egg-base /private/var/folders/js/4mlqrrqj2tq5r1r46k956m3c0000gn/T/pip-pip-egg-info-1z03_3_n\r\n",
      "         cwd: /private/var/folders/js/4mlqrrqj2tq5r1r46k956m3c0000gn/T/pip-install-b2pvrz6d/torch-scatter_3620445ab6ee4afca88125e4f85fe0b7/\r\n",
      "    Complete output (5 lines):\r\n",
      "    Traceback (most recent call last):\r\n",
      "      File \"<string>\", line 1, in <module>\r\n",
      "      File \"/private/var/folders/js/4mlqrrqj2tq5r1r46k956m3c0000gn/T/pip-install-b2pvrz6d/torch-scatter_3620445ab6ee4afca88125e4f85fe0b7/setup.py\", line 3, in <module>\r\n",
      "        import torch\r\n",
      "    ModuleNotFoundError: No module named 'torch'\r\n",
      "    ----------------------------------------\u001B[0m\r\n",
      "\u001B[33mWARNING: Discarding https://pypi.apple.com/packages/packages/d4/83/67eeea00c2db1959e2ff95d8680dbd756977bfab254bda8658f09dc3bc11/torch_scatter-1.1.2.tar.gz#sha256=766c2476f5da5ffc25fa8e249ccf50f594031cdce3922abb23559e8e3b14337a (from https://pypi.apple.com/simple/torch-scatter/). Command errored out with exit status 1: python setup.py egg_info Check the logs for full command output.\u001B[0m\r\n",
      "\u001B[31m    ERROR: Command errored out with exit status 1:\r\n",
      "     command: /Users/cshen/opt/anaconda3/envs/cs224w/bin/python -c 'import io, os, sys, setuptools, tokenize; sys.argv[0] = '\"'\"'/private/var/folders/js/4mlqrrqj2tq5r1r46k956m3c0000gn/T/pip-install-b2pvrz6d/torch-scatter_3792867f75ef4290867b0a0f93d371f2/setup.py'\"'\"'; __file__='\"'\"'/private/var/folders/js/4mlqrrqj2tq5r1r46k956m3c0000gn/T/pip-install-b2pvrz6d/torch-scatter_3792867f75ef4290867b0a0f93d371f2/setup.py'\"'\"';f = getattr(tokenize, '\"'\"'open'\"'\"', open)(__file__) if os.path.exists(__file__) else io.StringIO('\"'\"'from setuptools import setup; setup()'\"'\"');code = f.read().replace('\"'\"'\\r\\n'\"'\"', '\"'\"'\\n'\"'\"');f.close();exec(compile(code, __file__, '\"'\"'exec'\"'\"'))' egg_info --egg-base /private/var/folders/js/4mlqrrqj2tq5r1r46k956m3c0000gn/T/pip-pip-egg-info-rfn_teaz\r\n",
      "         cwd: /private/var/folders/js/4mlqrrqj2tq5r1r46k956m3c0000gn/T/pip-install-b2pvrz6d/torch-scatter_3792867f75ef4290867b0a0f93d371f2/\r\n",
      "    Complete output (5 lines):\r\n",
      "    Traceback (most recent call last):\r\n",
      "      File \"<string>\", line 1, in <module>\r\n",
      "      File \"/private/var/folders/js/4mlqrrqj2tq5r1r46k956m3c0000gn/T/pip-install-b2pvrz6d/torch-scatter_3792867f75ef4290867b0a0f93d371f2/setup.py\", line 3, in <module>\r\n",
      "        import torch\r\n",
      "    ModuleNotFoundError: No module named 'torch'\r\n",
      "    ----------------------------------------\u001B[0m\r\n",
      "\u001B[33mWARNING: Discarding https://files.pythonhosted.org/packages/d4/83/67eeea00c2db1959e2ff95d8680dbd756977bfab254bda8658f09dc3bc11/torch_scatter-1.1.2.tar.gz#sha256=766c2476f5da5ffc25fa8e249ccf50f594031cdce3922abb23559e8e3b14337a (from https://pypi.org/simple/torch-scatter/). Command errored out with exit status 1: python setup.py egg_info Check the logs for full command output.\u001B[0m\r\n",
      "\u001B[31m    ERROR: Command errored out with exit status 1:\r\n",
      "     command: /Users/cshen/opt/anaconda3/envs/cs224w/bin/python -c 'import io, os, sys, setuptools, tokenize; sys.argv[0] = '\"'\"'/private/var/folders/js/4mlqrrqj2tq5r1r46k956m3c0000gn/T/pip-install-b2pvrz6d/torch-scatter_fc417b81b4024441ba82041625ce38d3/setup.py'\"'\"'; __file__='\"'\"'/private/var/folders/js/4mlqrrqj2tq5r1r46k956m3c0000gn/T/pip-install-b2pvrz6d/torch-scatter_fc417b81b4024441ba82041625ce38d3/setup.py'\"'\"';f = getattr(tokenize, '\"'\"'open'\"'\"', open)(__file__) if os.path.exists(__file__) else io.StringIO('\"'\"'from setuptools import setup; setup()'\"'\"');code = f.read().replace('\"'\"'\\r\\n'\"'\"', '\"'\"'\\n'\"'\"');f.close();exec(compile(code, __file__, '\"'\"'exec'\"'\"'))' egg_info --egg-base /private/var/folders/js/4mlqrrqj2tq5r1r46k956m3c0000gn/T/pip-pip-egg-info-k3ba_kmt\r\n",
      "         cwd: /private/var/folders/js/4mlqrrqj2tq5r1r46k956m3c0000gn/T/pip-install-b2pvrz6d/torch-scatter_fc417b81b4024441ba82041625ce38d3/\r\n",
      "    Complete output (5 lines):\r\n",
      "    Traceback (most recent call last):\r\n",
      "      File \"<string>\", line 1, in <module>\r\n",
      "      File \"/private/var/folders/js/4mlqrrqj2tq5r1r46k956m3c0000gn/T/pip-install-b2pvrz6d/torch-scatter_fc417b81b4024441ba82041625ce38d3/setup.py\", line 3, in <module>\r\n",
      "        import torch\r\n",
      "    ModuleNotFoundError: No module named 'torch'\r\n",
      "    ----------------------------------------\u001B[0m\r\n",
      "\u001B[33mWARNING: Discarding https://pypi.apple.com/packages/packages/91/5f/eb1d3ef3810cb1165859d40db4d9ee6d7f1dfef97d7e5c34010055f43d95/torch_scatter-1.1.1.tar.gz#sha256=9db7f2c0a5cddf6cfde633e33db7c2c94eaab163e9f8edb46460d6414cc97917 (from https://pypi.apple.com/simple/torch-scatter/). Command errored out with exit status 1: python setup.py egg_info Check the logs for full command output.\u001B[0m\r\n",
      "\u001B[31m    ERROR: Command errored out with exit status 1:\r\n",
      "     command: /Users/cshen/opt/anaconda3/envs/cs224w/bin/python -c 'import io, os, sys, setuptools, tokenize; sys.argv[0] = '\"'\"'/private/var/folders/js/4mlqrrqj2tq5r1r46k956m3c0000gn/T/pip-install-b2pvrz6d/torch-scatter_5a74461dd8ba490d9dad8ef63301183c/setup.py'\"'\"'; __file__='\"'\"'/private/var/folders/js/4mlqrrqj2tq5r1r46k956m3c0000gn/T/pip-install-b2pvrz6d/torch-scatter_5a74461dd8ba490d9dad8ef63301183c/setup.py'\"'\"';f = getattr(tokenize, '\"'\"'open'\"'\"', open)(__file__) if os.path.exists(__file__) else io.StringIO('\"'\"'from setuptools import setup; setup()'\"'\"');code = f.read().replace('\"'\"'\\r\\n'\"'\"', '\"'\"'\\n'\"'\"');f.close();exec(compile(code, __file__, '\"'\"'exec'\"'\"'))' egg_info --egg-base /private/var/folders/js/4mlqrrqj2tq5r1r46k956m3c0000gn/T/pip-pip-egg-info-rui83ell\r\n",
      "         cwd: /private/var/folders/js/4mlqrrqj2tq5r1r46k956m3c0000gn/T/pip-install-b2pvrz6d/torch-scatter_5a74461dd8ba490d9dad8ef63301183c/\r\n",
      "    Complete output (5 lines):\r\n",
      "    Traceback (most recent call last):\r\n",
      "      File \"<string>\", line 1, in <module>\r\n",
      "      File \"/private/var/folders/js/4mlqrrqj2tq5r1r46k956m3c0000gn/T/pip-install-b2pvrz6d/torch-scatter_5a74461dd8ba490d9dad8ef63301183c/setup.py\", line 3, in <module>\r\n",
      "        import torch\r\n",
      "    ModuleNotFoundError: No module named 'torch'\r\n",
      "    ----------------------------------------\u001B[0m\r\n",
      "\u001B[33mWARNING: Discarding https://files.pythonhosted.org/packages/91/5f/eb1d3ef3810cb1165859d40db4d9ee6d7f1dfef97d7e5c34010055f43d95/torch_scatter-1.1.1.tar.gz#sha256=9db7f2c0a5cddf6cfde633e33db7c2c94eaab163e9f8edb46460d6414cc97917 (from https://pypi.org/simple/torch-scatter/). Command errored out with exit status 1: python setup.py egg_info Check the logs for full command output.\u001B[0m\r\n",
      "\u001B[31m    ERROR: Command errored out with exit status 1:\r\n",
      "     command: /Users/cshen/opt/anaconda3/envs/cs224w/bin/python -c 'import io, os, sys, setuptools, tokenize; sys.argv[0] = '\"'\"'/private/var/folders/js/4mlqrrqj2tq5r1r46k956m3c0000gn/T/pip-install-b2pvrz6d/torch-scatter_6f94a0831e7c4dd7a223a07fa06a1885/setup.py'\"'\"'; __file__='\"'\"'/private/var/folders/js/4mlqrrqj2tq5r1r46k956m3c0000gn/T/pip-install-b2pvrz6d/torch-scatter_6f94a0831e7c4dd7a223a07fa06a1885/setup.py'\"'\"';f = getattr(tokenize, '\"'\"'open'\"'\"', open)(__file__) if os.path.exists(__file__) else io.StringIO('\"'\"'from setuptools import setup; setup()'\"'\"');code = f.read().replace('\"'\"'\\r\\n'\"'\"', '\"'\"'\\n'\"'\"');f.close();exec(compile(code, __file__, '\"'\"'exec'\"'\"'))' egg_info --egg-base /private/var/folders/js/4mlqrrqj2tq5r1r46k956m3c0000gn/T/pip-pip-egg-info-5qr1pu_y\r\n",
      "         cwd: /private/var/folders/js/4mlqrrqj2tq5r1r46k956m3c0000gn/T/pip-install-b2pvrz6d/torch-scatter_6f94a0831e7c4dd7a223a07fa06a1885/\r\n",
      "    Complete output (5 lines):\r\n",
      "    Traceback (most recent call last):\r\n",
      "      File \"<string>\", line 1, in <module>\r\n",
      "      File \"/private/var/folders/js/4mlqrrqj2tq5r1r46k956m3c0000gn/T/pip-install-b2pvrz6d/torch-scatter_6f94a0831e7c4dd7a223a07fa06a1885/setup.py\", line 2, in <module>\r\n",
      "        import torch\r\n",
      "    ModuleNotFoundError: No module named 'torch'\r\n",
      "    ----------------------------------------\u001B[0m\r\n",
      "\u001B[33mWARNING: Discarding https://pypi.apple.com/packages/packages/2f/97/c50a6aeaedc6924180c6f5810d2a7405ce11aa9b82ba4284badad549d665/torch_scatter-1.1.0.tar.gz#sha256=e534cc2ecb2f9d9b559b1513cd411737d26ea5585d1d65ff571fec55f42a49de (from https://pypi.apple.com/simple/torch-scatter/). Command errored out with exit status 1: python setup.py egg_info Check the logs for full command output.\u001B[0m\r\n",
      "\u001B[31m    ERROR: Command errored out with exit status 1:\r\n",
      "     command: /Users/cshen/opt/anaconda3/envs/cs224w/bin/python -c 'import io, os, sys, setuptools, tokenize; sys.argv[0] = '\"'\"'/private/var/folders/js/4mlqrrqj2tq5r1r46k956m3c0000gn/T/pip-install-b2pvrz6d/torch-scatter_7d33607299e941fdae76b6223a029abf/setup.py'\"'\"'; __file__='\"'\"'/private/var/folders/js/4mlqrrqj2tq5r1r46k956m3c0000gn/T/pip-install-b2pvrz6d/torch-scatter_7d33607299e941fdae76b6223a029abf/setup.py'\"'\"';f = getattr(tokenize, '\"'\"'open'\"'\"', open)(__file__) if os.path.exists(__file__) else io.StringIO('\"'\"'from setuptools import setup; setup()'\"'\"');code = f.read().replace('\"'\"'\\r\\n'\"'\"', '\"'\"'\\n'\"'\"');f.close();exec(compile(code, __file__, '\"'\"'exec'\"'\"'))' egg_info --egg-base /private/var/folders/js/4mlqrrqj2tq5r1r46k956m3c0000gn/T/pip-pip-egg-info-4pesr5sl\r\n",
      "         cwd: /private/var/folders/js/4mlqrrqj2tq5r1r46k956m3c0000gn/T/pip-install-b2pvrz6d/torch-scatter_7d33607299e941fdae76b6223a029abf/\r\n",
      "    Complete output (5 lines):\r\n",
      "    Traceback (most recent call last):\r\n",
      "      File \"<string>\", line 1, in <module>\r\n",
      "      File \"/private/var/folders/js/4mlqrrqj2tq5r1r46k956m3c0000gn/T/pip-install-b2pvrz6d/torch-scatter_7d33607299e941fdae76b6223a029abf/setup.py\", line 2, in <module>\r\n",
      "        import torch\r\n",
      "    ModuleNotFoundError: No module named 'torch'\r\n",
      "    ----------------------------------------\u001B[0m\r\n",
      "\u001B[33mWARNING: Discarding https://files.pythonhosted.org/packages/2f/97/c50a6aeaedc6924180c6f5810d2a7405ce11aa9b82ba4284badad549d665/torch_scatter-1.1.0.tar.gz#sha256=e534cc2ecb2f9d9b559b1513cd411737d26ea5585d1d65ff571fec55f42a49de (from https://pypi.org/simple/torch-scatter/). Command errored out with exit status 1: python setup.py egg_info Check the logs for full command output.\u001B[0m\r\n",
      "\u001B[31m    ERROR: Command errored out with exit status 1:\r\n",
      "     command: /Users/cshen/opt/anaconda3/envs/cs224w/bin/python -c 'import io, os, sys, setuptools, tokenize; sys.argv[0] = '\"'\"'/private/var/folders/js/4mlqrrqj2tq5r1r46k956m3c0000gn/T/pip-install-b2pvrz6d/torch-scatter_c4ab9f9225c1486d92a9e25d897cfece/setup.py'\"'\"'; __file__='\"'\"'/private/var/folders/js/4mlqrrqj2tq5r1r46k956m3c0000gn/T/pip-install-b2pvrz6d/torch-scatter_c4ab9f9225c1486d92a9e25d897cfece/setup.py'\"'\"';f = getattr(tokenize, '\"'\"'open'\"'\"', open)(__file__) if os.path.exists(__file__) else io.StringIO('\"'\"'from setuptools import setup; setup()'\"'\"');code = f.read().replace('\"'\"'\\r\\n'\"'\"', '\"'\"'\\n'\"'\"');f.close();exec(compile(code, __file__, '\"'\"'exec'\"'\"'))' egg_info --egg-base /private/var/folders/js/4mlqrrqj2tq5r1r46k956m3c0000gn/T/pip-pip-egg-info-oq9920r9\r\n",
      "         cwd: /private/var/folders/js/4mlqrrqj2tq5r1r46k956m3c0000gn/T/pip-install-b2pvrz6d/torch-scatter_c4ab9f9225c1486d92a9e25d897cfece/\r\n",
      "    Complete output (5 lines):\r\n",
      "    Traceback (most recent call last):\r\n",
      "      File \"<string>\", line 1, in <module>\r\n",
      "      File \"/private/var/folders/js/4mlqrrqj2tq5r1r46k956m3c0000gn/T/pip-install-b2pvrz6d/torch-scatter_c4ab9f9225c1486d92a9e25d897cfece/setup.py\", line 2, in <module>\r\n",
      "        import torch\r\n",
      "    ModuleNotFoundError: No module named 'torch'\r\n",
      "    ----------------------------------------\u001B[0m\r\n",
      "\u001B[33mWARNING: Discarding https://pypi.apple.com/packages/packages/2d/70/df2bc259d9606f00854ca43b6839f9047ec44900563435e0067584c93864/torch_scatter-1.0.4.tar.gz#sha256=ec004d687e47da9d5477407849d815629fc8b571ee87aeeebf6af8ed6f16defc (from https://pypi.apple.com/simple/torch-scatter/). Command errored out with exit status 1: python setup.py egg_info Check the logs for full command output.\u001B[0m\r\n",
      "\u001B[31m    ERROR: Command errored out with exit status 1:\r\n",
      "     command: /Users/cshen/opt/anaconda3/envs/cs224w/bin/python -c 'import io, os, sys, setuptools, tokenize; sys.argv[0] = '\"'\"'/private/var/folders/js/4mlqrrqj2tq5r1r46k956m3c0000gn/T/pip-install-b2pvrz6d/torch-scatter_a2c799cae67447ab988dd63d7b9ed20e/setup.py'\"'\"'; __file__='\"'\"'/private/var/folders/js/4mlqrrqj2tq5r1r46k956m3c0000gn/T/pip-install-b2pvrz6d/torch-scatter_a2c799cae67447ab988dd63d7b9ed20e/setup.py'\"'\"';f = getattr(tokenize, '\"'\"'open'\"'\"', open)(__file__) if os.path.exists(__file__) else io.StringIO('\"'\"'from setuptools import setup; setup()'\"'\"');code = f.read().replace('\"'\"'\\r\\n'\"'\"', '\"'\"'\\n'\"'\"');f.close();exec(compile(code, __file__, '\"'\"'exec'\"'\"'))' egg_info --egg-base /private/var/folders/js/4mlqrrqj2tq5r1r46k956m3c0000gn/T/pip-pip-egg-info-58rhivtn\r\n",
      "         cwd: /private/var/folders/js/4mlqrrqj2tq5r1r46k956m3c0000gn/T/pip-install-b2pvrz6d/torch-scatter_a2c799cae67447ab988dd63d7b9ed20e/\r\n",
      "    Complete output (5 lines):\r\n",
      "    Traceback (most recent call last):\r\n",
      "      File \"<string>\", line 1, in <module>\r\n",
      "      File \"/private/var/folders/js/4mlqrrqj2tq5r1r46k956m3c0000gn/T/pip-install-b2pvrz6d/torch-scatter_a2c799cae67447ab988dd63d7b9ed20e/setup.py\", line 2, in <module>\r\n",
      "        import torch\r\n",
      "    ModuleNotFoundError: No module named 'torch'\r\n",
      "    ----------------------------------------\u001B[0m\r\n",
      "\u001B[33mWARNING: Discarding https://files.pythonhosted.org/packages/2d/70/df2bc259d9606f00854ca43b6839f9047ec44900563435e0067584c93864/torch_scatter-1.0.4.tar.gz#sha256=ec004d687e47da9d5477407849d815629fc8b571ee87aeeebf6af8ed6f16defc (from https://pypi.org/simple/torch-scatter/). Command errored out with exit status 1: python setup.py egg_info Check the logs for full command output.\u001B[0m\r\n",
      "\u001B[31m    ERROR: Command errored out with exit status 1:\r\n",
      "     command: /Users/cshen/opt/anaconda3/envs/cs224w/bin/python -c 'import io, os, sys, setuptools, tokenize; sys.argv[0] = '\"'\"'/private/var/folders/js/4mlqrrqj2tq5r1r46k956m3c0000gn/T/pip-install-b2pvrz6d/torch-scatter_f1ff2e4f4c894cbbbaf1044322db86c0/setup.py'\"'\"'; __file__='\"'\"'/private/var/folders/js/4mlqrrqj2tq5r1r46k956m3c0000gn/T/pip-install-b2pvrz6d/torch-scatter_f1ff2e4f4c894cbbbaf1044322db86c0/setup.py'\"'\"';f = getattr(tokenize, '\"'\"'open'\"'\"', open)(__file__) if os.path.exists(__file__) else io.StringIO('\"'\"'from setuptools import setup; setup()'\"'\"');code = f.read().replace('\"'\"'\\r\\n'\"'\"', '\"'\"'\\n'\"'\"');f.close();exec(compile(code, __file__, '\"'\"'exec'\"'\"'))' egg_info --egg-base /private/var/folders/js/4mlqrrqj2tq5r1r46k956m3c0000gn/T/pip-pip-egg-info-d0hxqgeq\r\n",
      "         cwd: /private/var/folders/js/4mlqrrqj2tq5r1r46k956m3c0000gn/T/pip-install-b2pvrz6d/torch-scatter_f1ff2e4f4c894cbbbaf1044322db86c0/\r\n",
      "    Complete output (28 lines):\r\n",
      "    WARNING: The directory '/Users/cshen/Library/Caches/pip' or its parent directory is not owned or is not writable by the current user. The cache has been disabled. Check the permissions and owner of that directory. If executing pip with sudo, you should use sudo's -H flag.\r\n",
      "    /Users/cshen/opt/anaconda3/envs/cs224w/lib/python3.8/site-packages/setuptools/dist.py:717: UserWarning: Usage of dash-separated 'description-file' will not be supported in future versions. Please use the underscore name 'description_file' instead\r\n",
      "      warnings.warn(\r\n",
      "    Traceback (most recent call last):\r\n",
      "      File \"<string>\", line 1, in <module>\r\n",
      "      File \"/private/var/folders/js/4mlqrrqj2tq5r1r46k956m3c0000gn/T/pip-install-b2pvrz6d/torch-scatter_f1ff2e4f4c894cbbbaf1044322db86c0/setup.py\", line 12, in <module>\r\n",
      "        setup(\r\n",
      "      File \"/Users/cshen/opt/anaconda3/envs/cs224w/lib/python3.8/site-packages/setuptools/__init__.py\", line 153, in setup\r\n",
      "        return distutils.core.setup(**attrs)\r\n",
      "      File \"/Users/cshen/opt/anaconda3/envs/cs224w/lib/python3.8/distutils/core.py\", line 108, in setup\r\n",
      "        _setup_distribution = dist = klass(attrs)\r\n",
      "      File \"/Users/cshen/opt/anaconda3/envs/cs224w/lib/python3.8/site-packages/setuptools/dist.py\", line 453, in __init__\r\n",
      "        _Distribution.__init__(\r\n",
      "      File \"/Users/cshen/opt/anaconda3/envs/cs224w/lib/python3.8/distutils/dist.py\", line 292, in __init__\r\n",
      "        self.finalize_options()\r\n",
      "      File \"/Users/cshen/opt/anaconda3/envs/cs224w/lib/python3.8/site-packages/setuptools/dist.py\", line 831, in finalize_options\r\n",
      "        ep(self)\r\n",
      "      File \"/Users/cshen/opt/anaconda3/envs/cs224w/lib/python3.8/site-packages/setuptools/dist.py\", line 852, in _finalize_setup_keywords\r\n",
      "        ep.load()(self, ep.name, value)\r\n",
      "      File \"/Users/cshen/opt/anaconda3/envs/cs224w/lib/python3.8/site-packages/cffi/setuptools_ext.py\", line 219, in cffi_modules\r\n",
      "        add_cffi_module(dist, cffi_module)\r\n",
      "      File \"/Users/cshen/opt/anaconda3/envs/cs224w/lib/python3.8/site-packages/cffi/setuptools_ext.py\", line 49, in add_cffi_module\r\n",
      "        execfile(build_file_name, mod_vars)\r\n",
      "      File \"/Users/cshen/opt/anaconda3/envs/cs224w/lib/python3.8/site-packages/cffi/setuptools_ext.py\", line 25, in execfile\r\n",
      "        exec(code, glob, glob)\r\n",
      "      File \"/private/var/folders/js/4mlqrrqj2tq5r1r46k956m3c0000gn/T/pip-install-b2pvrz6d/torch-scatter_f1ff2e4f4c894cbbbaf1044322db86c0/build.py\", line 4, in <module>\r\n",
      "        import torch\r\n",
      "    ModuleNotFoundError: No module named 'torch'\r\n",
      "    ----------------------------------------\u001B[0m\r\n",
      "\u001B[33mWARNING: Discarding https://pypi.apple.com/packages/packages/08/09/07b106f3e74246f4ecf6517013a053b6dd7486c4f889d81f39adc662431f/torch_scatter-1.0.3.tar.gz#sha256=e626993194819ba65cdf89a52fbbb7780569d9e157bc63dbef13ead6b7a33930 (from https://pypi.apple.com/simple/torch-scatter/). Command errored out with exit status 1: python setup.py egg_info Check the logs for full command output.\u001B[0m\r\n",
      "\u001B[31m    ERROR: Command errored out with exit status 1:\r\n",
      "     command: /Users/cshen/opt/anaconda3/envs/cs224w/bin/python -c 'import io, os, sys, setuptools, tokenize; sys.argv[0] = '\"'\"'/private/var/folders/js/4mlqrrqj2tq5r1r46k956m3c0000gn/T/pip-install-b2pvrz6d/torch-scatter_12145281170440b18e7495a085d47880/setup.py'\"'\"'; __file__='\"'\"'/private/var/folders/js/4mlqrrqj2tq5r1r46k956m3c0000gn/T/pip-install-b2pvrz6d/torch-scatter_12145281170440b18e7495a085d47880/setup.py'\"'\"';f = getattr(tokenize, '\"'\"'open'\"'\"', open)(__file__) if os.path.exists(__file__) else io.StringIO('\"'\"'from setuptools import setup; setup()'\"'\"');code = f.read().replace('\"'\"'\\r\\n'\"'\"', '\"'\"'\\n'\"'\"');f.close();exec(compile(code, __file__, '\"'\"'exec'\"'\"'))' egg_info --egg-base /private/var/folders/js/4mlqrrqj2tq5r1r46k956m3c0000gn/T/pip-pip-egg-info-4ekj8jpo\r\n",
      "         cwd: /private/var/folders/js/4mlqrrqj2tq5r1r46k956m3c0000gn/T/pip-install-b2pvrz6d/torch-scatter_12145281170440b18e7495a085d47880/\r\n",
      "    Complete output (28 lines):\r\n",
      "    WARNING: The directory '/Users/cshen/Library/Caches/pip' or its parent directory is not owned or is not writable by the current user. The cache has been disabled. Check the permissions and owner of that directory. If executing pip with sudo, you should use sudo's -H flag.\r\n",
      "    /Users/cshen/opt/anaconda3/envs/cs224w/lib/python3.8/site-packages/setuptools/dist.py:717: UserWarning: Usage of dash-separated 'description-file' will not be supported in future versions. Please use the underscore name 'description_file' instead\r\n",
      "      warnings.warn(\r\n",
      "    Traceback (most recent call last):\r\n",
      "      File \"<string>\", line 1, in <module>\r\n",
      "      File \"/private/var/folders/js/4mlqrrqj2tq5r1r46k956m3c0000gn/T/pip-install-b2pvrz6d/torch-scatter_12145281170440b18e7495a085d47880/setup.py\", line 12, in <module>\r\n",
      "        setup(\r\n",
      "      File \"/Users/cshen/opt/anaconda3/envs/cs224w/lib/python3.8/site-packages/setuptools/__init__.py\", line 153, in setup\r\n",
      "        return distutils.core.setup(**attrs)\r\n",
      "      File \"/Users/cshen/opt/anaconda3/envs/cs224w/lib/python3.8/distutils/core.py\", line 108, in setup\r\n",
      "        _setup_distribution = dist = klass(attrs)\r\n",
      "      File \"/Users/cshen/opt/anaconda3/envs/cs224w/lib/python3.8/site-packages/setuptools/dist.py\", line 453, in __init__\r\n",
      "        _Distribution.__init__(\r\n",
      "      File \"/Users/cshen/opt/anaconda3/envs/cs224w/lib/python3.8/distutils/dist.py\", line 292, in __init__\r\n",
      "        self.finalize_options()\r\n",
      "      File \"/Users/cshen/opt/anaconda3/envs/cs224w/lib/python3.8/site-packages/setuptools/dist.py\", line 831, in finalize_options\r\n",
      "        ep(self)\r\n",
      "      File \"/Users/cshen/opt/anaconda3/envs/cs224w/lib/python3.8/site-packages/setuptools/dist.py\", line 852, in _finalize_setup_keywords\r\n",
      "        ep.load()(self, ep.name, value)\r\n",
      "      File \"/Users/cshen/opt/anaconda3/envs/cs224w/lib/python3.8/site-packages/cffi/setuptools_ext.py\", line 219, in cffi_modules\r\n",
      "        add_cffi_module(dist, cffi_module)\r\n",
      "      File \"/Users/cshen/opt/anaconda3/envs/cs224w/lib/python3.8/site-packages/cffi/setuptools_ext.py\", line 49, in add_cffi_module\r\n",
      "        execfile(build_file_name, mod_vars)\r\n",
      "      File \"/Users/cshen/opt/anaconda3/envs/cs224w/lib/python3.8/site-packages/cffi/setuptools_ext.py\", line 25, in execfile\r\n",
      "        exec(code, glob, glob)\r\n",
      "      File \"/private/var/folders/js/4mlqrrqj2tq5r1r46k956m3c0000gn/T/pip-install-b2pvrz6d/torch-scatter_12145281170440b18e7495a085d47880/build.py\", line 4, in <module>\r\n",
      "        import torch\r\n",
      "    ModuleNotFoundError: No module named 'torch'\r\n",
      "    ----------------------------------------\u001B[0m\r\n",
      "\u001B[33mWARNING: Discarding https://files.pythonhosted.org/packages/08/09/07b106f3e74246f4ecf6517013a053b6dd7486c4f889d81f39adc662431f/torch_scatter-1.0.3.tar.gz#sha256=e626993194819ba65cdf89a52fbbb7780569d9e157bc63dbef13ead6b7a33930 (from https://pypi.org/simple/torch-scatter/). Command errored out with exit status 1: python setup.py egg_info Check the logs for full command output.\u001B[0m\r\n",
      "\u001B[31m    ERROR: Command errored out with exit status 1:\r\n",
      "     command: /Users/cshen/opt/anaconda3/envs/cs224w/bin/python -c 'import io, os, sys, setuptools, tokenize; sys.argv[0] = '\"'\"'/private/var/folders/js/4mlqrrqj2tq5r1r46k956m3c0000gn/T/pip-install-b2pvrz6d/torch-scatter_0ae70977af844e91bb91b0119fc636c1/setup.py'\"'\"'; __file__='\"'\"'/private/var/folders/js/4mlqrrqj2tq5r1r46k956m3c0000gn/T/pip-install-b2pvrz6d/torch-scatter_0ae70977af844e91bb91b0119fc636c1/setup.py'\"'\"';f = getattr(tokenize, '\"'\"'open'\"'\"', open)(__file__) if os.path.exists(__file__) else io.StringIO('\"'\"'from setuptools import setup; setup()'\"'\"');code = f.read().replace('\"'\"'\\r\\n'\"'\"', '\"'\"'\\n'\"'\"');f.close();exec(compile(code, __file__, '\"'\"'exec'\"'\"'))' egg_info --egg-base /private/var/folders/js/4mlqrrqj2tq5r1r46k956m3c0000gn/T/pip-pip-egg-info-nmrdv__v\r\n",
      "         cwd: /private/var/folders/js/4mlqrrqj2tq5r1r46k956m3c0000gn/T/pip-install-b2pvrz6d/torch-scatter_0ae70977af844e91bb91b0119fc636c1/\r\n",
      "    Complete output (28 lines):\r\n",
      "    WARNING: The directory '/Users/cshen/Library/Caches/pip' or its parent directory is not owned or is not writable by the current user. The cache has been disabled. Check the permissions and owner of that directory. If executing pip with sudo, you should use sudo's -H flag.\r\n",
      "    /Users/cshen/opt/anaconda3/envs/cs224w/lib/python3.8/site-packages/setuptools/dist.py:717: UserWarning: Usage of dash-separated 'description-file' will not be supported in future versions. Please use the underscore name 'description_file' instead\r\n",
      "      warnings.warn(\r\n",
      "    Traceback (most recent call last):\r\n",
      "      File \"<string>\", line 1, in <module>\r\n",
      "      File \"/private/var/folders/js/4mlqrrqj2tq5r1r46k956m3c0000gn/T/pip-install-b2pvrz6d/torch-scatter_0ae70977af844e91bb91b0119fc636c1/setup.py\", line 12, in <module>\r\n",
      "        setup(\r\n",
      "      File \"/Users/cshen/opt/anaconda3/envs/cs224w/lib/python3.8/site-packages/setuptools/__init__.py\", line 153, in setup\r\n",
      "        return distutils.core.setup(**attrs)\r\n",
      "      File \"/Users/cshen/opt/anaconda3/envs/cs224w/lib/python3.8/distutils/core.py\", line 108, in setup\r\n",
      "        _setup_distribution = dist = klass(attrs)\r\n",
      "      File \"/Users/cshen/opt/anaconda3/envs/cs224w/lib/python3.8/site-packages/setuptools/dist.py\", line 453, in __init__\r\n",
      "        _Distribution.__init__(\r\n",
      "      File \"/Users/cshen/opt/anaconda3/envs/cs224w/lib/python3.8/distutils/dist.py\", line 292, in __init__\r\n",
      "        self.finalize_options()\r\n",
      "      File \"/Users/cshen/opt/anaconda3/envs/cs224w/lib/python3.8/site-packages/setuptools/dist.py\", line 831, in finalize_options\r\n",
      "        ep(self)\r\n",
      "      File \"/Users/cshen/opt/anaconda3/envs/cs224w/lib/python3.8/site-packages/setuptools/dist.py\", line 852, in _finalize_setup_keywords\r\n",
      "        ep.load()(self, ep.name, value)\r\n",
      "      File \"/Users/cshen/opt/anaconda3/envs/cs224w/lib/python3.8/site-packages/cffi/setuptools_ext.py\", line 219, in cffi_modules\r\n",
      "        add_cffi_module(dist, cffi_module)\r\n",
      "      File \"/Users/cshen/opt/anaconda3/envs/cs224w/lib/python3.8/site-packages/cffi/setuptools_ext.py\", line 49, in add_cffi_module\r\n",
      "        execfile(build_file_name, mod_vars)\r\n",
      "      File \"/Users/cshen/opt/anaconda3/envs/cs224w/lib/python3.8/site-packages/cffi/setuptools_ext.py\", line 25, in execfile\r\n",
      "        exec(code, glob, glob)\r\n",
      "      File \"/private/var/folders/js/4mlqrrqj2tq5r1r46k956m3c0000gn/T/pip-install-b2pvrz6d/torch-scatter_0ae70977af844e91bb91b0119fc636c1/build.py\", line 4, in <module>\r\n",
      "        import torch\r\n",
      "    ModuleNotFoundError: No module named 'torch'\r\n",
      "    ----------------------------------------\u001B[0m\r\n",
      "\u001B[33mWARNING: Discarding https://pypi.apple.com/packages/packages/6a/b0/ecffacddf573c147c70c6e43ce05d24f007155ce3fb436959d3d2a24da46/torch_scatter-1.0.2.tar.gz#sha256=ccda794c25265b3450206b7fb0bf74f16a0b45f3f72d9547a42e44648a32faee (from https://pypi.apple.com/simple/torch-scatter/). Command errored out with exit status 1: python setup.py egg_info Check the logs for full command output.\u001B[0m\r\n",
      "\u001B[31m    ERROR: Command errored out with exit status 1:\r\n",
      "     command: /Users/cshen/opt/anaconda3/envs/cs224w/bin/python -c 'import io, os, sys, setuptools, tokenize; sys.argv[0] = '\"'\"'/private/var/folders/js/4mlqrrqj2tq5r1r46k956m3c0000gn/T/pip-install-b2pvrz6d/torch-scatter_b9650affc6c94bddbfa727cfd3bb04d2/setup.py'\"'\"'; __file__='\"'\"'/private/var/folders/js/4mlqrrqj2tq5r1r46k956m3c0000gn/T/pip-install-b2pvrz6d/torch-scatter_b9650affc6c94bddbfa727cfd3bb04d2/setup.py'\"'\"';f = getattr(tokenize, '\"'\"'open'\"'\"', open)(__file__) if os.path.exists(__file__) else io.StringIO('\"'\"'from setuptools import setup; setup()'\"'\"');code = f.read().replace('\"'\"'\\r\\n'\"'\"', '\"'\"'\\n'\"'\"');f.close();exec(compile(code, __file__, '\"'\"'exec'\"'\"'))' egg_info --egg-base /private/var/folders/js/4mlqrrqj2tq5r1r46k956m3c0000gn/T/pip-pip-egg-info-38ypnfsx\r\n",
      "         cwd: /private/var/folders/js/4mlqrrqj2tq5r1r46k956m3c0000gn/T/pip-install-b2pvrz6d/torch-scatter_b9650affc6c94bddbfa727cfd3bb04d2/\r\n",
      "    Complete output (28 lines):\r\n",
      "    WARNING: The directory '/Users/cshen/Library/Caches/pip' or its parent directory is not owned or is not writable by the current user. The cache has been disabled. Check the permissions and owner of that directory. If executing pip with sudo, you should use sudo's -H flag.\r\n",
      "    /Users/cshen/opt/anaconda3/envs/cs224w/lib/python3.8/site-packages/setuptools/dist.py:717: UserWarning: Usage of dash-separated 'description-file' will not be supported in future versions. Please use the underscore name 'description_file' instead\r\n",
      "      warnings.warn(\r\n",
      "    Traceback (most recent call last):\r\n",
      "      File \"<string>\", line 1, in <module>\r\n",
      "      File \"/private/var/folders/js/4mlqrrqj2tq5r1r46k956m3c0000gn/T/pip-install-b2pvrz6d/torch-scatter_b9650affc6c94bddbfa727cfd3bb04d2/setup.py\", line 12, in <module>\r\n",
      "        setup(\r\n",
      "      File \"/Users/cshen/opt/anaconda3/envs/cs224w/lib/python3.8/site-packages/setuptools/__init__.py\", line 153, in setup\r\n",
      "        return distutils.core.setup(**attrs)\r\n",
      "      File \"/Users/cshen/opt/anaconda3/envs/cs224w/lib/python3.8/distutils/core.py\", line 108, in setup\r\n",
      "        _setup_distribution = dist = klass(attrs)\r\n",
      "      File \"/Users/cshen/opt/anaconda3/envs/cs224w/lib/python3.8/site-packages/setuptools/dist.py\", line 453, in __init__\r\n",
      "        _Distribution.__init__(\r\n",
      "      File \"/Users/cshen/opt/anaconda3/envs/cs224w/lib/python3.8/distutils/dist.py\", line 292, in __init__\r\n",
      "        self.finalize_options()\r\n",
      "      File \"/Users/cshen/opt/anaconda3/envs/cs224w/lib/python3.8/site-packages/setuptools/dist.py\", line 831, in finalize_options\r\n",
      "        ep(self)\r\n",
      "      File \"/Users/cshen/opt/anaconda3/envs/cs224w/lib/python3.8/site-packages/setuptools/dist.py\", line 852, in _finalize_setup_keywords\r\n",
      "        ep.load()(self, ep.name, value)\r\n",
      "      File \"/Users/cshen/opt/anaconda3/envs/cs224w/lib/python3.8/site-packages/cffi/setuptools_ext.py\", line 219, in cffi_modules\r\n",
      "        add_cffi_module(dist, cffi_module)\r\n",
      "      File \"/Users/cshen/opt/anaconda3/envs/cs224w/lib/python3.8/site-packages/cffi/setuptools_ext.py\", line 49, in add_cffi_module\r\n",
      "        execfile(build_file_name, mod_vars)\r\n",
      "      File \"/Users/cshen/opt/anaconda3/envs/cs224w/lib/python3.8/site-packages/cffi/setuptools_ext.py\", line 25, in execfile\r\n",
      "        exec(code, glob, glob)\r\n",
      "      File \"/private/var/folders/js/4mlqrrqj2tq5r1r46k956m3c0000gn/T/pip-install-b2pvrz6d/torch-scatter_b9650affc6c94bddbfa727cfd3bb04d2/build.py\", line 4, in <module>\r\n",
      "        import torch\r\n",
      "    ModuleNotFoundError: No module named 'torch'\r\n",
      "    ----------------------------------------\u001B[0m\r\n",
      "\u001B[33mWARNING: Discarding https://files.pythonhosted.org/packages/6a/b0/ecffacddf573c147c70c6e43ce05d24f007155ce3fb436959d3d2a24da46/torch_scatter-1.0.2.tar.gz#sha256=ccda794c25265b3450206b7fb0bf74f16a0b45f3f72d9547a42e44648a32faee (from https://pypi.org/simple/torch-scatter/). Command errored out with exit status 1: python setup.py egg_info Check the logs for full command output.\u001B[0m\r\n",
      "\u001B[31m    ERROR: Command errored out with exit status 1:\r\n",
      "     command: /Users/cshen/opt/anaconda3/envs/cs224w/bin/python -c 'import io, os, sys, setuptools, tokenize; sys.argv[0] = '\"'\"'/private/var/folders/js/4mlqrrqj2tq5r1r46k956m3c0000gn/T/pip-install-b2pvrz6d/torch-scatter_4697e3f3ce3442b095c16f5726fcb563/setup.py'\"'\"'; __file__='\"'\"'/private/var/folders/js/4mlqrrqj2tq5r1r46k956m3c0000gn/T/pip-install-b2pvrz6d/torch-scatter_4697e3f3ce3442b095c16f5726fcb563/setup.py'\"'\"';f = getattr(tokenize, '\"'\"'open'\"'\"', open)(__file__) if os.path.exists(__file__) else io.StringIO('\"'\"'from setuptools import setup; setup()'\"'\"');code = f.read().replace('\"'\"'\\r\\n'\"'\"', '\"'\"'\\n'\"'\"');f.close();exec(compile(code, __file__, '\"'\"'exec'\"'\"'))' egg_info --egg-base /private/var/folders/js/4mlqrrqj2tq5r1r46k956m3c0000gn/T/pip-pip-egg-info-dus1ba21\r\n",
      "         cwd: /private/var/folders/js/4mlqrrqj2tq5r1r46k956m3c0000gn/T/pip-install-b2pvrz6d/torch-scatter_4697e3f3ce3442b095c16f5726fcb563/\r\n",
      "    Complete output (28 lines):\r\n",
      "    WARNING: The directory '/Users/cshen/Library/Caches/pip' or its parent directory is not owned or is not writable by the current user. The cache has been disabled. Check the permissions and owner of that directory. If executing pip with sudo, you should use sudo's -H flag.\r\n",
      "    /Users/cshen/opt/anaconda3/envs/cs224w/lib/python3.8/site-packages/setuptools/dist.py:717: UserWarning: Usage of dash-separated 'description-file' will not be supported in future versions. Please use the underscore name 'description_file' instead\r\n",
      "      warnings.warn(\r\n",
      "    Traceback (most recent call last):\r\n",
      "      File \"<string>\", line 1, in <module>\r\n",
      "      File \"/private/var/folders/js/4mlqrrqj2tq5r1r46k956m3c0000gn/T/pip-install-b2pvrz6d/torch-scatter_4697e3f3ce3442b095c16f5726fcb563/setup.py\", line 13, in <module>\r\n",
      "        setup(\r\n",
      "      File \"/Users/cshen/opt/anaconda3/envs/cs224w/lib/python3.8/site-packages/setuptools/__init__.py\", line 153, in setup\r\n",
      "        return distutils.core.setup(**attrs)\r\n",
      "      File \"/Users/cshen/opt/anaconda3/envs/cs224w/lib/python3.8/distutils/core.py\", line 108, in setup\r\n",
      "        _setup_distribution = dist = klass(attrs)\r\n",
      "      File \"/Users/cshen/opt/anaconda3/envs/cs224w/lib/python3.8/site-packages/setuptools/dist.py\", line 453, in __init__\r\n",
      "        _Distribution.__init__(\r\n",
      "      File \"/Users/cshen/opt/anaconda3/envs/cs224w/lib/python3.8/distutils/dist.py\", line 292, in __init__\r\n",
      "        self.finalize_options()\r\n",
      "      File \"/Users/cshen/opt/anaconda3/envs/cs224w/lib/python3.8/site-packages/setuptools/dist.py\", line 831, in finalize_options\r\n",
      "        ep(self)\r\n",
      "      File \"/Users/cshen/opt/anaconda3/envs/cs224w/lib/python3.8/site-packages/setuptools/dist.py\", line 852, in _finalize_setup_keywords\r\n",
      "        ep.load()(self, ep.name, value)\r\n",
      "      File \"/Users/cshen/opt/anaconda3/envs/cs224w/lib/python3.8/site-packages/cffi/setuptools_ext.py\", line 219, in cffi_modules\r\n",
      "        add_cffi_module(dist, cffi_module)\r\n",
      "      File \"/Users/cshen/opt/anaconda3/envs/cs224w/lib/python3.8/site-packages/cffi/setuptools_ext.py\", line 49, in add_cffi_module\r\n",
      "        execfile(build_file_name, mod_vars)\r\n",
      "      File \"/Users/cshen/opt/anaconda3/envs/cs224w/lib/python3.8/site-packages/cffi/setuptools_ext.py\", line 25, in execfile\r\n",
      "        exec(code, glob, glob)\r\n",
      "      File \"/private/var/folders/js/4mlqrrqj2tq5r1r46k956m3c0000gn/T/pip-install-b2pvrz6d/torch-scatter_4697e3f3ce3442b095c16f5726fcb563/build.py\", line 3, in <module>\r\n",
      "        import torch\r\n",
      "    ModuleNotFoundError: No module named 'torch'\r\n",
      "    ----------------------------------------\u001B[0m\r\n",
      "\u001B[33mWARNING: Discarding https://pypi.apple.com/packages/packages/29/96/566ac314e796d4b07209a3b88cc7a8d2e8582d55819e33f72e6c0e8d8216/torch_scatter-0.3.0.tar.gz#sha256=9e5e5a6efa4ef45f584e8611f83690d799370dd122b862646751ae112b685b50 (from https://pypi.apple.com/simple/torch-scatter/). Command errored out with exit status 1: python setup.py egg_info Check the logs for full command output.\u001B[0m\r\n",
      "\u001B[31m    ERROR: Command errored out with exit status 1:\r\n",
      "     command: /Users/cshen/opt/anaconda3/envs/cs224w/bin/python -c 'import io, os, sys, setuptools, tokenize; sys.argv[0] = '\"'\"'/private/var/folders/js/4mlqrrqj2tq5r1r46k956m3c0000gn/T/pip-install-b2pvrz6d/torch-scatter_a4700728685c477e9eb7e4d87acb58e8/setup.py'\"'\"'; __file__='\"'\"'/private/var/folders/js/4mlqrrqj2tq5r1r46k956m3c0000gn/T/pip-install-b2pvrz6d/torch-scatter_a4700728685c477e9eb7e4d87acb58e8/setup.py'\"'\"';f = getattr(tokenize, '\"'\"'open'\"'\"', open)(__file__) if os.path.exists(__file__) else io.StringIO('\"'\"'from setuptools import setup; setup()'\"'\"');code = f.read().replace('\"'\"'\\r\\n'\"'\"', '\"'\"'\\n'\"'\"');f.close();exec(compile(code, __file__, '\"'\"'exec'\"'\"'))' egg_info --egg-base /private/var/folders/js/4mlqrrqj2tq5r1r46k956m3c0000gn/T/pip-pip-egg-info-e7ye0_0u\r\n",
      "         cwd: /private/var/folders/js/4mlqrrqj2tq5r1r46k956m3c0000gn/T/pip-install-b2pvrz6d/torch-scatter_a4700728685c477e9eb7e4d87acb58e8/\r\n",
      "    Complete output (28 lines):\r\n",
      "    WARNING: The directory '/Users/cshen/Library/Caches/pip' or its parent directory is not owned or is not writable by the current user. The cache has been disabled. Check the permissions and owner of that directory. If executing pip with sudo, you should use sudo's -H flag.\r\n",
      "    /Users/cshen/opt/anaconda3/envs/cs224w/lib/python3.8/site-packages/setuptools/dist.py:717: UserWarning: Usage of dash-separated 'description-file' will not be supported in future versions. Please use the underscore name 'description_file' instead\r\n",
      "      warnings.warn(\r\n",
      "    Traceback (most recent call last):\r\n",
      "      File \"<string>\", line 1, in <module>\r\n",
      "      File \"/private/var/folders/js/4mlqrrqj2tq5r1r46k956m3c0000gn/T/pip-install-b2pvrz6d/torch-scatter_a4700728685c477e9eb7e4d87acb58e8/setup.py\", line 13, in <module>\r\n",
      "        setup(\r\n",
      "      File \"/Users/cshen/opt/anaconda3/envs/cs224w/lib/python3.8/site-packages/setuptools/__init__.py\", line 153, in setup\r\n",
      "        return distutils.core.setup(**attrs)\r\n",
      "      File \"/Users/cshen/opt/anaconda3/envs/cs224w/lib/python3.8/distutils/core.py\", line 108, in setup\r\n",
      "        _setup_distribution = dist = klass(attrs)\r\n",
      "      File \"/Users/cshen/opt/anaconda3/envs/cs224w/lib/python3.8/site-packages/setuptools/dist.py\", line 453, in __init__\r\n",
      "        _Distribution.__init__(\r\n",
      "      File \"/Users/cshen/opt/anaconda3/envs/cs224w/lib/python3.8/distutils/dist.py\", line 292, in __init__\r\n",
      "        self.finalize_options()\r\n",
      "      File \"/Users/cshen/opt/anaconda3/envs/cs224w/lib/python3.8/site-packages/setuptools/dist.py\", line 831, in finalize_options\r\n",
      "        ep(self)\r\n",
      "      File \"/Users/cshen/opt/anaconda3/envs/cs224w/lib/python3.8/site-packages/setuptools/dist.py\", line 852, in _finalize_setup_keywords\r\n",
      "        ep.load()(self, ep.name, value)\r\n",
      "      File \"/Users/cshen/opt/anaconda3/envs/cs224w/lib/python3.8/site-packages/cffi/setuptools_ext.py\", line 219, in cffi_modules\r\n",
      "        add_cffi_module(dist, cffi_module)\r\n",
      "      File \"/Users/cshen/opt/anaconda3/envs/cs224w/lib/python3.8/site-packages/cffi/setuptools_ext.py\", line 49, in add_cffi_module\r\n",
      "        execfile(build_file_name, mod_vars)\r\n",
      "      File \"/Users/cshen/opt/anaconda3/envs/cs224w/lib/python3.8/site-packages/cffi/setuptools_ext.py\", line 25, in execfile\r\n",
      "        exec(code, glob, glob)\r\n",
      "      File \"/private/var/folders/js/4mlqrrqj2tq5r1r46k956m3c0000gn/T/pip-install-b2pvrz6d/torch-scatter_a4700728685c477e9eb7e4d87acb58e8/build.py\", line 3, in <module>\r\n",
      "        import torch\r\n",
      "    ModuleNotFoundError: No module named 'torch'\r\n",
      "    ----------------------------------------\u001B[0m\r\n",
      "\u001B[33mWARNING: Discarding https://files.pythonhosted.org/packages/29/96/566ac314e796d4b07209a3b88cc7a8d2e8582d55819e33f72e6c0e8d8216/torch_scatter-0.3.0.tar.gz#sha256=9e5e5a6efa4ef45f584e8611f83690d799370dd122b862646751ae112b685b50 (from https://pypi.org/simple/torch-scatter/). Command errored out with exit status 1: python setup.py egg_info Check the logs for full command output.\u001B[0m\r\n",
      "\u001B[31mERROR: Could not find a version that satisfies the requirement torch-scatter (from versions: 0.3.0, 1.0.2, 1.0.3, 1.0.4, 1.1.0, 1.1.1, 1.1.2, 1.2.0, 1.3.0, 1.3.1, 1.3.2, 1.4.0, 2.0.2, 2.0.3, 2.0.4, 2.0.5, 2.0.6, 2.0.7, 2.0.8, 2.0.9)\u001B[0m\r\n",
      "\u001B[31mERROR: No matching distribution found for torch-scatter\u001B[0m\r\n",
      "\u001B[33mWARNING: The directory '/Users/cshen/Library/Caches/pip' or its parent directory is not owned or is not writable by the current user. The cache has been disabled. Check the permissions and owner of that directory. If executing pip with sudo, you should use sudo's -H flag.\u001B[0m\r\n",
      "\u001B[31m    ERROR: Command errored out with exit status 1:\r\n",
      "     command: /Users/cshen/opt/anaconda3/envs/cs224w/bin/python -c 'import io, os, sys, setuptools, tokenize; sys.argv[0] = '\"'\"'/private/var/folders/js/4mlqrrqj2tq5r1r46k956m3c0000gn/T/pip-install-e585nb8j/torch-sparse_9b4037fe7bb0498398f40f4ea57d16dd/setup.py'\"'\"'; __file__='\"'\"'/private/var/folders/js/4mlqrrqj2tq5r1r46k956m3c0000gn/T/pip-install-e585nb8j/torch-sparse_9b4037fe7bb0498398f40f4ea57d16dd/setup.py'\"'\"';f = getattr(tokenize, '\"'\"'open'\"'\"', open)(__file__) if os.path.exists(__file__) else io.StringIO('\"'\"'from setuptools import setup; setup()'\"'\"');code = f.read().replace('\"'\"'\\r\\n'\"'\"', '\"'\"'\\n'\"'\"');f.close();exec(compile(code, __file__, '\"'\"'exec'\"'\"'))' egg_info --egg-base /private/var/folders/js/4mlqrrqj2tq5r1r46k956m3c0000gn/T/pip-pip-egg-info-n5u22vkz\r\n",
      "         cwd: /private/var/folders/js/4mlqrrqj2tq5r1r46k956m3c0000gn/T/pip-install-e585nb8j/torch-sparse_9b4037fe7bb0498398f40f4ea57d16dd/\r\n",
      "    Complete output (5 lines):\r\n",
      "    Traceback (most recent call last):\r\n",
      "      File \"<string>\", line 1, in <module>\r\n",
      "      File \"/private/var/folders/js/4mlqrrqj2tq5r1r46k956m3c0000gn/T/pip-install-e585nb8j/torch-sparse_9b4037fe7bb0498398f40f4ea57d16dd/setup.py\", line 8, in <module>\r\n",
      "        import torch\r\n",
      "    ModuleNotFoundError: No module named 'torch'\r\n",
      "    ----------------------------------------\u001B[0m\r\n",
      "\u001B[33mWARNING: Discarding https://pypi.apple.com/packages/packages/6d/79/df42a4bf93191ff44d31ba58eb3ec98a02dfb7402fac34852f864c4b3999/torch_sparse-0.6.15.tar.gz#sha256=3a741ae8a7cc19247a44de549fa4d593c4257b5f741e1eb5110b712a14209dd9 (from https://pypi.apple.com/simple/torch-sparse/) (requires-python:>=3.7). Command errored out with exit status 1: python setup.py egg_info Check the logs for full command output.\u001B[0m\r\n",
      "\u001B[31m    ERROR: Command errored out with exit status 1:\r\n",
      "     command: /Users/cshen/opt/anaconda3/envs/cs224w/bin/python -c 'import io, os, sys, setuptools, tokenize; sys.argv[0] = '\"'\"'/private/var/folders/js/4mlqrrqj2tq5r1r46k956m3c0000gn/T/pip-install-e585nb8j/torch-sparse_664907624fa84332a189ce80e0c6926e/setup.py'\"'\"'; __file__='\"'\"'/private/var/folders/js/4mlqrrqj2tq5r1r46k956m3c0000gn/T/pip-install-e585nb8j/torch-sparse_664907624fa84332a189ce80e0c6926e/setup.py'\"'\"';f = getattr(tokenize, '\"'\"'open'\"'\"', open)(__file__) if os.path.exists(__file__) else io.StringIO('\"'\"'from setuptools import setup; setup()'\"'\"');code = f.read().replace('\"'\"'\\r\\n'\"'\"', '\"'\"'\\n'\"'\"');f.close();exec(compile(code, __file__, '\"'\"'exec'\"'\"'))' egg_info --egg-base /private/var/folders/js/4mlqrrqj2tq5r1r46k956m3c0000gn/T/pip-pip-egg-info-kf09uzu3\r\n",
      "         cwd: /private/var/folders/js/4mlqrrqj2tq5r1r46k956m3c0000gn/T/pip-install-e585nb8j/torch-sparse_664907624fa84332a189ce80e0c6926e/\r\n",
      "    Complete output (5 lines):\r\n",
      "    Traceback (most recent call last):\r\n",
      "      File \"<string>\", line 1, in <module>\r\n",
      "      File \"/private/var/folders/js/4mlqrrqj2tq5r1r46k956m3c0000gn/T/pip-install-e585nb8j/torch-sparse_664907624fa84332a189ce80e0c6926e/setup.py\", line 8, in <module>\r\n",
      "        import torch\r\n",
      "    ModuleNotFoundError: No module named 'torch'\r\n",
      "    ----------------------------------------\u001B[0m\r\n",
      "\u001B[33mWARNING: Discarding https://files.pythonhosted.org/packages/6d/79/df42a4bf93191ff44d31ba58eb3ec98a02dfb7402fac34852f864c4b3999/torch_sparse-0.6.15.tar.gz#sha256=3a741ae8a7cc19247a44de549fa4d593c4257b5f741e1eb5110b712a14209dd9 (from https://pypi.org/simple/torch-sparse/) (requires-python:>=3.7). Command errored out with exit status 1: python setup.py egg_info Check the logs for full command output.\u001B[0m\r\n",
      "\u001B[31m    ERROR: Command errored out with exit status 1:\r\n",
      "     command: /Users/cshen/opt/anaconda3/envs/cs224w/bin/python -c 'import io, os, sys, setuptools, tokenize; sys.argv[0] = '\"'\"'/private/var/folders/js/4mlqrrqj2tq5r1r46k956m3c0000gn/T/pip-install-e585nb8j/torch-sparse_579ba86aabb14e9bbdcb776e0cf1f1af/setup.py'\"'\"'; __file__='\"'\"'/private/var/folders/js/4mlqrrqj2tq5r1r46k956m3c0000gn/T/pip-install-e585nb8j/torch-sparse_579ba86aabb14e9bbdcb776e0cf1f1af/setup.py'\"'\"';f = getattr(tokenize, '\"'\"'open'\"'\"', open)(__file__) if os.path.exists(__file__) else io.StringIO('\"'\"'from setuptools import setup; setup()'\"'\"');code = f.read().replace('\"'\"'\\r\\n'\"'\"', '\"'\"'\\n'\"'\"');f.close();exec(compile(code, __file__, '\"'\"'exec'\"'\"'))' egg_info --egg-base /private/var/folders/js/4mlqrrqj2tq5r1r46k956m3c0000gn/T/pip-pip-egg-info-g1w9sscu\r\n",
      "         cwd: /private/var/folders/js/4mlqrrqj2tq5r1r46k956m3c0000gn/T/pip-install-e585nb8j/torch-sparse_579ba86aabb14e9bbdcb776e0cf1f1af/\r\n",
      "    Complete output (5 lines):\r\n",
      "    Traceback (most recent call last):\r\n",
      "      File \"<string>\", line 1, in <module>\r\n",
      "      File \"/private/var/folders/js/4mlqrrqj2tq5r1r46k956m3c0000gn/T/pip-install-e585nb8j/torch-sparse_579ba86aabb14e9bbdcb776e0cf1f1af/setup.py\", line 8, in <module>\r\n",
      "        import torch\r\n",
      "    ModuleNotFoundError: No module named 'torch'\r\n",
      "    ----------------------------------------\u001B[0m\r\n",
      "\u001B[33mWARNING: Discarding https://pypi.apple.com/packages/packages/ed/f0/8d198555417336fac1b56c23b50699717cfc743f5d6bd5d1ece59695aa4c/torch_sparse-0.6.14.tar.gz#sha256=36632fa7b219a71d54a6bb245765379ab4d387a694f34ab429a9a9f70879ad66 (from https://pypi.apple.com/simple/torch-sparse/) (requires-python:>=3.7). Command errored out with exit status 1: python setup.py egg_info Check the logs for full command output.\u001B[0m\r\n",
      "\u001B[31m    ERROR: Command errored out with exit status 1:\r\n",
      "     command: /Users/cshen/opt/anaconda3/envs/cs224w/bin/python -c 'import io, os, sys, setuptools, tokenize; sys.argv[0] = '\"'\"'/private/var/folders/js/4mlqrrqj2tq5r1r46k956m3c0000gn/T/pip-install-e585nb8j/torch-sparse_57fa8fe38d084ccd964ad0401910a61a/setup.py'\"'\"'; __file__='\"'\"'/private/var/folders/js/4mlqrrqj2tq5r1r46k956m3c0000gn/T/pip-install-e585nb8j/torch-sparse_57fa8fe38d084ccd964ad0401910a61a/setup.py'\"'\"';f = getattr(tokenize, '\"'\"'open'\"'\"', open)(__file__) if os.path.exists(__file__) else io.StringIO('\"'\"'from setuptools import setup; setup()'\"'\"');code = f.read().replace('\"'\"'\\r\\n'\"'\"', '\"'\"'\\n'\"'\"');f.close();exec(compile(code, __file__, '\"'\"'exec'\"'\"'))' egg_info --egg-base /private/var/folders/js/4mlqrrqj2tq5r1r46k956m3c0000gn/T/pip-pip-egg-info-yo9i7wxm\r\n",
      "         cwd: /private/var/folders/js/4mlqrrqj2tq5r1r46k956m3c0000gn/T/pip-install-e585nb8j/torch-sparse_57fa8fe38d084ccd964ad0401910a61a/\r\n",
      "    Complete output (5 lines):\r\n",
      "    Traceback (most recent call last):\r\n",
      "      File \"<string>\", line 1, in <module>\r\n",
      "      File \"/private/var/folders/js/4mlqrrqj2tq5r1r46k956m3c0000gn/T/pip-install-e585nb8j/torch-sparse_57fa8fe38d084ccd964ad0401910a61a/setup.py\", line 8, in <module>\r\n",
      "        import torch\r\n",
      "    ModuleNotFoundError: No module named 'torch'\r\n",
      "    ----------------------------------------\u001B[0m\r\n",
      "\u001B[33mWARNING: Discarding https://files.pythonhosted.org/packages/ed/f0/8d198555417336fac1b56c23b50699717cfc743f5d6bd5d1ece59695aa4c/torch_sparse-0.6.14.tar.gz#sha256=36632fa7b219a71d54a6bb245765379ab4d387a694f34ab429a9a9f70879ad66 (from https://pypi.org/simple/torch-sparse/) (requires-python:>=3.7). Command errored out with exit status 1: python setup.py egg_info Check the logs for full command output.\u001B[0m\r\n",
      "\u001B[31m    ERROR: Command errored out with exit status 1:\r\n",
      "     command: /Users/cshen/opt/anaconda3/envs/cs224w/bin/python -c 'import io, os, sys, setuptools, tokenize; sys.argv[0] = '\"'\"'/private/var/folders/js/4mlqrrqj2tq5r1r46k956m3c0000gn/T/pip-install-e585nb8j/torch-sparse_a391a3832976411399f6aa8c93c36e0b/setup.py'\"'\"'; __file__='\"'\"'/private/var/folders/js/4mlqrrqj2tq5r1r46k956m3c0000gn/T/pip-install-e585nb8j/torch-sparse_a391a3832976411399f6aa8c93c36e0b/setup.py'\"'\"';f = getattr(tokenize, '\"'\"'open'\"'\"', open)(__file__) if os.path.exists(__file__) else io.StringIO('\"'\"'from setuptools import setup; setup()'\"'\"');code = f.read().replace('\"'\"'\\r\\n'\"'\"', '\"'\"'\\n'\"'\"');f.close();exec(compile(code, __file__, '\"'\"'exec'\"'\"'))' egg_info --egg-base /private/var/folders/js/4mlqrrqj2tq5r1r46k956m3c0000gn/T/pip-pip-egg-info-sma5h95o\r\n",
      "         cwd: /private/var/folders/js/4mlqrrqj2tq5r1r46k956m3c0000gn/T/pip-install-e585nb8j/torch-sparse_a391a3832976411399f6aa8c93c36e0b/\r\n",
      "    Complete output (5 lines):\r\n",
      "    Traceback (most recent call last):\r\n",
      "      File \"<string>\", line 1, in <module>\r\n",
      "      File \"/private/var/folders/js/4mlqrrqj2tq5r1r46k956m3c0000gn/T/pip-install-e585nb8j/torch-sparse_a391a3832976411399f6aa8c93c36e0b/setup.py\", line 8, in <module>\r\n",
      "        import torch\r\n",
      "    ModuleNotFoundError: No module named 'torch'\r\n",
      "    ----------------------------------------\u001B[0m\r\n",
      "\u001B[33mWARNING: Discarding https://pypi.apple.com/packages/packages/ee/44/b4a1d6d7fa67309781005c0e36723dd0bd745fc1a20c9330796055953b10/torch_sparse-0.6.13.tar.gz#sha256=b4896822559f9b47d8b0186d74c94b7449f91db155a57d617fbeae9b722fa1f3 (from https://pypi.apple.com/simple/torch-sparse/) (requires-python:>=3.7). Command errored out with exit status 1: python setup.py egg_info Check the logs for full command output.\u001B[0m\r\n",
      "\u001B[31m    ERROR: Command errored out with exit status 1:\r\n",
      "     command: /Users/cshen/opt/anaconda3/envs/cs224w/bin/python -c 'import io, os, sys, setuptools, tokenize; sys.argv[0] = '\"'\"'/private/var/folders/js/4mlqrrqj2tq5r1r46k956m3c0000gn/T/pip-install-e585nb8j/torch-sparse_227d13842f50454393a8d7d76da1d6e4/setup.py'\"'\"'; __file__='\"'\"'/private/var/folders/js/4mlqrrqj2tq5r1r46k956m3c0000gn/T/pip-install-e585nb8j/torch-sparse_227d13842f50454393a8d7d76da1d6e4/setup.py'\"'\"';f = getattr(tokenize, '\"'\"'open'\"'\"', open)(__file__) if os.path.exists(__file__) else io.StringIO('\"'\"'from setuptools import setup; setup()'\"'\"');code = f.read().replace('\"'\"'\\r\\n'\"'\"', '\"'\"'\\n'\"'\"');f.close();exec(compile(code, __file__, '\"'\"'exec'\"'\"'))' egg_info --egg-base /private/var/folders/js/4mlqrrqj2tq5r1r46k956m3c0000gn/T/pip-pip-egg-info-xmsfj1uh\r\n",
      "         cwd: /private/var/folders/js/4mlqrrqj2tq5r1r46k956m3c0000gn/T/pip-install-e585nb8j/torch-sparse_227d13842f50454393a8d7d76da1d6e4/\r\n",
      "    Complete output (5 lines):\r\n",
      "    Traceback (most recent call last):\r\n",
      "      File \"<string>\", line 1, in <module>\r\n",
      "      File \"/private/var/folders/js/4mlqrrqj2tq5r1r46k956m3c0000gn/T/pip-install-e585nb8j/torch-sparse_227d13842f50454393a8d7d76da1d6e4/setup.py\", line 8, in <module>\r\n",
      "        import torch\r\n",
      "    ModuleNotFoundError: No module named 'torch'\r\n",
      "    ----------------------------------------\u001B[0m\r\n",
      "\u001B[33mWARNING: Discarding https://files.pythonhosted.org/packages/ee/44/b4a1d6d7fa67309781005c0e36723dd0bd745fc1a20c9330796055953b10/torch_sparse-0.6.13.tar.gz#sha256=b4896822559f9b47d8b0186d74c94b7449f91db155a57d617fbeae9b722fa1f3 (from https://pypi.org/simple/torch-sparse/) (requires-python:>=3.7). Command errored out with exit status 1: python setup.py egg_info Check the logs for full command output.\u001B[0m\r\n"
     ]
    }
   ],
   "source": [
    "!pip install ipywidgets\n",
    "!pip install -q torch-scatter -f https://data.pyg.org/whl/torch-1.12.0+cu116.html\n",
    "!pip install -q torch-sparse -f https://data.pyg.org/whl/torch-1.12.0+cu116.html\n",
    "!pip install -q git+https://github.com/pyg-team/pytorch_geometric.git"
   ]
  },
  {
   "cell_type": "markdown",
   "metadata": {},
   "source": [
    "### Import Packages"
   ]
  },
  {
   "cell_type": "code",
   "execution_count": 3,
   "metadata": {
    "execution": {
     "iopub.execute_input": "2022-10-04T20:08:38.495873Z",
     "iopub.status.busy": "2022-10-04T20:08:38.495453Z",
     "iopub.status.idle": "2022-10-04T20:08:39.452233Z",
     "shell.execute_reply": "2022-10-04T20:08:39.451052Z",
     "shell.execute_reply.started": "2022-10-04T20:08:38.495830Z"
    },
    "id": "Y9fonQcxt3do",
    "pycharm": {
     "name": "#%%\n"
    }
   },
   "outputs": [],
   "source": [
    "import random\n",
    "import matplotlib.pyplot as plt\n",
    "import numpy as np\n",
    "import pandas as pd\n",
    "\n",
    "import torch\n",
    "import torch.nn as nn\n",
    "import torch.nn.functional as F\n",
    "from torch.utils.data import DataLoader\n",
    "from torch.utils.data import Dataset\n",
    "\n",
    "import torch_geometric\n",
    "from torch_geometric.nn.conv import MessagePassing\n",
    "from torch_geometric.utils import degree\n",
    "\n",
    "from tqdm.notebook import tqdm\n",
    "from sklearn.model_selection import train_test_split"
   ]
  },
  {
   "cell_type": "markdown",
   "metadata": {
    "id": "nzLUutf7uNAS",
    "pycharm": {
     "name": "#%% md\n"
    }
   },
   "source": [
    "Check our environment"
   ]
  },
  {
   "cell_type": "code",
   "execution_count": 5,
   "metadata": {
    "execution": {
     "iopub.execute_input": "2022-10-04T20:15:05.886436Z",
     "iopub.status.busy": "2022-10-04T20:15:05.885948Z",
     "iopub.status.idle": "2022-10-04T20:15:05.899314Z",
     "shell.execute_reply": "2022-10-04T20:15:05.897902Z",
     "shell.execute_reply.started": "2022-10-04T20:15:05.886408Z"
    },
    "id": "J_CDy1cbuF4_",
    "pycharm": {
     "name": "#%%\n"
    }
   },
   "outputs": [
    {
     "data": {
      "text/plain": [
       "'2.1.0'"
      ]
     },
     "execution_count": 5,
     "metadata": {},
     "output_type": "execute_result"
    }
   ],
   "source": [
    "torch_geometric.__version__"
   ]
  },
  {
   "cell_type": "markdown",
   "metadata": {},
   "source": [
    "Set device for torch"
   ]
  },
  {
   "cell_type": "code",
   "execution_count": 6,
   "metadata": {
    "execution": {
     "iopub.execute_input": "2022-10-04T20:15:15.315843Z",
     "iopub.status.busy": "2022-10-04T20:15:15.315032Z",
     "iopub.status.idle": "2022-10-04T20:15:15.321084Z",
     "shell.execute_reply": "2022-10-04T20:15:15.319823Z",
     "shell.execute_reply.started": "2022-10-04T20:15:15.315815Z"
    },
    "id": "b4pKT5jUt3pz",
    "pycharm": {
     "name": "#%%\n"
    }
   },
   "outputs": [],
   "source": [
    "device = torch.device(\"cuda:0\" if torch.cuda.is_available() else \"cpu\")"
   ]
  },
  {
   "cell_type": "markdown",
   "metadata": {
    "id": "eYnQc9UH07Fg",
    "pycharm": {
     "name": "#%% md\n"
    }
   },
   "source": [
    "### Read Data\n",
    "\n",
    "To keep the notebook as simple as possible, we only consider three columns: place_index, user_index, and rating.\n"
   ]
  },
  {
   "cell_type": "code",
   "execution_count": 7,
   "metadata": {
    "execution": {
     "iopub.execute_input": "2022-10-04T20:15:18.184272Z",
     "iopub.status.busy": "2022-10-04T20:15:18.183300Z",
     "iopub.status.idle": "2022-10-04T20:15:21.437620Z",
     "shell.execute_reply": "2022-10-04T20:15:21.436366Z",
     "shell.execute_reply.started": "2022-10-04T20:15:18.184237Z"
    },
    "pycharm": {
     "name": "#%%\n"
    }
   },
   "outputs": [],
   "source": [
    "columns_name = ['place_index', 'user_index', 'rating']\n",
    "review_df = pd.read_csv(\"/notebooks/train.tsv\", sep=\"\\t\")[columns_name].astype(int)"
   ]
  },
  {
   "cell_type": "markdown",
   "metadata": {},
   "source": [
    "### Split Data"
   ]
  },
  {
   "cell_type": "code",
   "execution_count": 8,
   "metadata": {
    "execution": {
     "iopub.execute_input": "2022-10-04T20:15:30.064326Z",
     "iopub.status.busy": "2022-10-04T20:15:30.063720Z",
     "iopub.status.idle": "2022-10-04T20:15:30.298459Z",
     "shell.execute_reply": "2022-10-04T20:15:30.297338Z",
     "shell.execute_reply.started": "2022-10-04T20:15:30.064286Z"
    },
    "id": "SWwvL8JOmrT4",
    "pycharm": {
     "name": "#%%\n"
    }
   },
   "outputs": [],
   "source": [
    "train, test = train_test_split(review_df.values, test_size=0.2)\n",
    "train_df = pd.DataFrame(train, columns=review_df.columns)\n",
    "test_df = pd.DataFrame(test, columns=review_df.columns)"
   ]
  },
  {
   "cell_type": "markdown",
   "metadata": {},
   "source": [
    "Remove data in test_df that user_index or place_index not in train_df"
   ]
  },
  {
   "cell_type": "code",
   "execution_count": 9,
   "metadata": {
    "execution": {
     "iopub.execute_input": "2022-10-04T20:15:33.031267Z",
     "iopub.status.busy": "2022-10-04T20:15:33.030438Z",
     "iopub.status.idle": "2022-10-04T20:15:33.095477Z",
     "shell.execute_reply": "2022-10-04T20:15:33.094187Z",
     "shell.execute_reply.started": "2022-10-04T20:15:33.031238Z"
    },
    "id": "-WOF-cOAm5iO",
    "pycharm": {
     "name": "#%%\n"
    }
   },
   "outputs": [],
   "source": [
    "user_list= train_df['user_index'].unique()\n",
    "place_list = train_df['place_index'].unique()\n",
    "test_df = test_df[test_df['user_index'].isin(user_list) & test_df['place_index'].isin(place_list)]"
   ]
  },
  {
   "cell_type": "markdown",
   "metadata": {},
   "source": [
    "### Number of User and Place"
   ]
  },
  {
   "cell_type": "code",
   "execution_count": 10,
   "metadata": {
    "execution": {
     "iopub.execute_input": "2022-10-04T20:15:36.801463Z",
     "iopub.status.busy": "2022-10-04T20:15:36.801032Z",
     "iopub.status.idle": "2022-10-04T20:15:36.842236Z",
     "shell.execute_reply": "2022-10-04T20:15:36.841383Z",
     "shell.execute_reply.started": "2022-10-04T20:15:36.801434Z"
    }
   },
   "outputs": [],
   "source": [
    "num_user = len(train_df['user_index'].unique())\n",
    "num_place = len(train_df['place_index'].unique())"
   ]
  },
  {
   "cell_type": "markdown",
   "metadata": {
    "id": "XNoblY5kxlv_",
    "pycharm": {
     "name": "#%% md\n"
    }
   },
   "source": [
    "### Dataset and Dataloader"
   ]
  },
  {
   "cell_type": "code",
   "execution_count": 11,
   "metadata": {
    "execution": {
     "iopub.execute_input": "2022-10-04T20:15:40.918267Z",
     "iopub.status.busy": "2022-10-04T20:15:40.917761Z",
     "iopub.status.idle": "2022-10-04T20:15:40.925296Z",
     "shell.execute_reply": "2022-10-04T20:15:40.924007Z",
     "shell.execute_reply.started": "2022-10-04T20:15:40.918228Z"
    },
    "id": "NQRGy-CJnOkg",
    "pycharm": {
     "name": "#%%\n"
    }
   },
   "outputs": [],
   "source": [
    "class MyDataset(Dataset):\n",
    "\tdef __init__(self, data):\n",
    "\t\tself.data = data.to_numpy()\n",
    "\t\t\n",
    "\tdef __getitem__(self, index):\n",
    "\t\treturn self.data[index, 0], self.data[index, 1], self.data[index, 2:3].astype(np.float32)\n",
    "\t\n",
    "\tdef __len__(self):\n",
    "\t\treturn len(self.data)\n",
    "\n",
    "train_dataset = MyDataset(train_df)\n",
    "test_dataset = MyDataset(test_df)"
   ]
  },
  {
   "cell_type": "markdown",
   "metadata": {
    "id": "vjHZg1Eu-MKs",
    "pycharm": {
     "name": "#%% md\n"
    }
   },
   "source": [
    "## Edge Index\n",
    "\n",
    "PyG represents graphs as sparse lists of node pairs. Since our graph is undirected, we need to include each edge twice, once for the edges from the users to the items and vice-versa.\n",
    "\n",
    "Similar to above, we add `n_users` to the item tensor to ensure that every node in the graph has a unique identifier."
   ]
  },
  {
   "cell_type": "code",
   "execution_count": 12,
   "metadata": {
    "execution": {
     "iopub.execute_input": "2022-10-04T20:15:45.382297Z",
     "iopub.status.busy": "2022-10-04T20:15:45.380988Z",
     "iopub.status.idle": "2022-10-04T20:15:47.211431Z",
     "shell.execute_reply": "2022-10-04T20:15:47.210426Z",
     "shell.execute_reply.started": "2022-10-04T20:15:45.382267Z"
    },
    "id": "O3BkGyV9pkce",
    "pycharm": {
     "name": "#%%\n"
    }
   },
   "outputs": [],
   "source": [
    "u_t = torch.LongTensor(train_df.user_index.to_numpy())\n",
    "i_t = torch.LongTensor(train_df.place_index.to_numpy())\n",
    "\n",
    "train_edge_index = torch.stack((torch.cat([u_t, i_t]),torch.cat([i_t, u_t]))).to(device)"
   ]
  },
  {
   "cell_type": "markdown",
   "metadata": {
    "id": "2ys1P7mtcr54",
    "pycharm": {
     "name": "#%% md\n"
    }
   },
   "source": [
    "## Model Architecture\n",
    "\n",
    "First, let's take a look at the graph convolutional layers that will power our recommender system GNN. Then, we can implement a wrapper to stack multiple convolutional layers."
   ]
  },
  {
   "cell_type": "markdown",
   "metadata": {
    "id": "49WD8SryyUds",
    "pycharm": {
     "name": "#%% md\n"
    }
   },
   "source": [
    "### LightGCN Convolutional Layer\n",
    "\n",
    "The LightGCN architecture is governed by the following rules:\n",
    "\n",
    "$$e_{u}^{(k+1)} = \\sum\\limits_{i \\in N_u} \\frac{1}{\\sqrt{|N_u|}\\sqrt{|N_i|}}e^{(k)}_i$$\n",
    "\n",
    "$$e_{i}^{(k+1)} = \\sum\\limits_{u \\in N_i} \\frac{1}{\\sqrt{|N_i|}\\sqrt{|N_u|}}e^{(k)}_u$$\n",
    "In essence, the embedding for each node after a single LightGCN layer is the sum of the synthetic normalized embeddings of it's neighbors before the layer."
   ]
  },
  {
   "cell_type": "markdown",
   "metadata": {
    "id": "IcUsEulPtNNp",
    "pycharm": {
     "name": "#%% md\n"
    }
   },
   "source": [
    "\n",
    "Briefly explain how the `MessagePassing` class works (look at colabs)\n",
    "\n",
    "We can specify the type of aggregation our `MessagePassing` layer should use by passing in an `aggr=` argument in the layer initialization. Here we use `add` to specify summation aggregation of messages.\n",
    "\n",
    "Note that we could have manually defined our aggregation function by defining a function explicitly in the class:\n",
    "```\n",
    "def aggregate(self, x, messages, index):\n",
    "  return torch_scatter.scatter(messages, index, self.node_dim, reduce=\"sum\")\n",
    "```\n",
    "The `torch_scatter.scatter` function enables us to aggregate messages being sent to the same node. The `reduce=` argument specifies how to aggregate, while `index` has the same length as the `messages` tensor and maps from message to destination node."
   ]
  },
  {
   "cell_type": "code",
   "execution_count": 13,
   "metadata": {
    "execution": {
     "iopub.execute_input": "2022-10-04T20:15:53.192870Z",
     "iopub.status.busy": "2022-10-04T20:15:53.191748Z",
     "iopub.status.idle": "2022-10-04T20:15:53.201221Z",
     "shell.execute_reply": "2022-10-04T20:15:53.199889Z",
     "shell.execute_reply.started": "2022-10-04T20:15:53.192826Z"
    },
    "id": "-aTMoHisNIh_",
    "pycharm": {
     "name": "#%%\n"
    }
   },
   "outputs": [],
   "source": [
    "class LightGCNConv(MessagePassing):\n",
    "    def __init__(self, **kwargs):\n",
    "        super().__init__(aggr='add')\n",
    "\n",
    "    def forward(self, x, edge_index):\n",
    "        # Compute normalization\n",
    "        from_, to_ = edge_index\n",
    "        deg = degree(to_, x.size(0), dtype=x.dtype)\n",
    "        deg_inv_sqrt = deg.pow(-0.5)\n",
    "        deg_inv_sqrt[deg_inv_sqrt == float('inf')] = 0\n",
    "        norm = deg_inv_sqrt[from_] * deg_inv_sqrt[to_]\n",
    "        # Start propagating messages (no update after aggregation)\n",
    "        return self.propagate(edge_index, x=x, norm=norm)\n",
    "\n",
    "    def message(self, x_j, norm):\n",
    "        return norm.view(-1, 1) * x_j"
   ]
  },
  {
   "cell_type": "markdown",
   "metadata": {
    "id": "I2tW9FJFqNjn",
    "pycharm": {
     "name": "#%% md\n"
    }
   },
   "source": [
    "### Recommender System GNN\n",
    "\n",
    "Some considerations that can be made for tweaking the models are the number of layers of your model. The more number of layers you add to the model, the more your model will \"diffuse\" information of recommendations made from nodes that are n-hops away in a model that uses n layers. Dropout can be tweaked to try out different regularization schemes.\n",
    "\n",
    "Notice that our forward function works differently from most neural networks by forward propagating embeddings for all nodes in the graph. This is because the embeddings for a given node depend on the embeddings of it's n-hop neighborhood, so they need to be propagated as well."
   ]
  },
  {
   "cell_type": "code",
   "execution_count": 24,
   "metadata": {
    "execution": {
     "iopub.execute_input": "2022-10-04T20:30:41.486782Z",
     "iopub.status.busy": "2022-10-04T20:30:41.485805Z",
     "iopub.status.idle": "2022-10-04T20:30:41.495479Z",
     "shell.execute_reply": "2022-10-04T20:30:41.494653Z",
     "shell.execute_reply.started": "2022-10-04T20:30:41.486742Z"
    },
    "id": "nT5LTkI8Ml1c",
    "pycharm": {
     "name": "#%%\n"
    }
   },
   "outputs": [],
   "source": [
    "class LightGCN(nn.Module):\n",
    "    def __init__(self, latent_dim, num_layers, num_users, num_items):\n",
    "        super(LightGCN, self).__init__()\n",
    "        self.embedding = nn.Embedding(num_users + num_items, latent_dim)\n",
    "        self.convs = nn.ModuleList(LightGCNConv() for _ in range(num_layers))\n",
    "        self.init_parameters()\n",
    "        self.nn = nn.Linear(2*latent_dim, 1)\n",
    "\n",
    "    def init_parameters(self):\n",
    "        nn.init.normal_(self.embedding.weight, std=0.1) \n",
    "\n",
    "    def forward(self, edge_index):\n",
    "        emb0 = self.embedding.weight\n",
    "        embs = [emb0]\n",
    "        emb = emb0\n",
    "        for conv in self.convs:\n",
    "            emb = conv(x=emb, edge_index=edge_index)\n",
    "            embs.append(emb)\n",
    "\n",
    "        out = torch.mean(torch.stack(embs, dim=0), dim=0)\n",
    "        return emb0, out\n",
    "\n",
    "    def encode_minibatch(self, users, items, edge_index):\n",
    "        emb0, out = self(edge_index)\n",
    "        return out[users], out[items], emb0[users], emb0[items]\n",
    "    \n",
    "    def pred(self, users, items, edge_index):\n",
    "        user_emb, item_emb, _ , _ = self.encode_minibatch(users, items, edge_index)\n",
    "        x = torch.cat((user_emb,item_emb), 1)\n",
    "        x = self.nn(x)\n",
    "        return x"
   ]
  },
  {
   "cell_type": "markdown",
   "metadata": {
    "id": "_qOC3fF9m6cH",
    "pycharm": {
     "name": "#%% md\n"
    }
   },
   "source": [
    "## Train and evaluate models\n",
    "\n",
    "Set Parameters"
   ]
  },
  {
   "cell_type": "code",
   "execution_count": 25,
   "metadata": {
    "execution": {
     "iopub.execute_input": "2022-10-04T20:30:43.881590Z",
     "iopub.status.busy": "2022-10-04T20:30:43.880619Z",
     "iopub.status.idle": "2022-10-04T20:30:43.887210Z",
     "shell.execute_reply": "2022-10-04T20:30:43.885820Z",
     "shell.execute_reply.started": "2022-10-04T20:30:43.881558Z"
    },
    "id": "MZtgfxxIm5nL",
    "pycharm": {
     "name": "#%%\n"
    }
   },
   "outputs": [],
   "source": [
    "latent_dim = 32\n",
    "n_layers = 2\n",
    "\n",
    "EPOCHS = 5\n",
    "BATCH_SIZE = 256\n",
    "DECAY = 0.0001\n",
    "LR = 0.005\n",
    "K = 2"
   ]
  },
  {
   "cell_type": "markdown",
   "metadata": {},
   "source": [
    "Set Model"
   ]
  },
  {
   "cell_type": "code",
   "execution_count": 26,
   "metadata": {
    "execution": {
     "iopub.execute_input": "2022-10-04T20:30:46.390811Z",
     "iopub.status.busy": "2022-10-04T20:30:46.389831Z",
     "iopub.status.idle": "2022-10-04T20:30:46.458774Z",
     "shell.execute_reply": "2022-10-04T20:30:46.457678Z",
     "shell.execute_reply.started": "2022-10-04T20:30:46.390782Z"
    }
   },
   "outputs": [],
   "source": [
    "lightgcn = LightGCN(\n",
    "    latent_dim=latent_dim,\n",
    "    num_layers=n_layers,\n",
    "    num_users=num_user,\n",
    "    num_items=num_place,\n",
    ")\n",
    "lightgcn = lightgcn.to(device)"
   ]
  },
  {
   "cell_type": "markdown",
   "metadata": {},
   "source": [
    "Set Train Function"
   ]
  },
  {
   "cell_type": "code",
   "execution_count": 27,
   "metadata": {
    "execution": {
     "iopub.execute_input": "2022-10-04T20:30:49.768050Z",
     "iopub.status.busy": "2022-10-04T20:30:49.767558Z",
     "iopub.status.idle": "2022-10-04T20:30:49.778168Z",
     "shell.execute_reply": "2022-10-04T20:30:49.776726Z",
     "shell.execute_reply.started": "2022-10-04T20:30:49.768014Z"
    },
    "pycharm": {
     "name": "#%%\n"
    }
   },
   "outputs": [],
   "source": [
    "def train(model, optimizer, train_dataset, n_users, n_restaurants, train_edge_index, loss_fn):\n",
    "    loss_list_epoch = []\n",
    "    train_dataloader = DataLoader(train_dataset, batch_size=BATCH_SIZE)\n",
    "    for epoch in tqdm(range(EPOCHS)):\n",
    "        n_batch = int(len(train_dataset)/BATCH_SIZE)\n",
    "        loss_list = []\n",
    "        model.train()\n",
    "        for users, items, ratings in tqdm(train_dataloader):\n",
    "            optimizer.zero_grad()\n",
    "            users, items, ratings = users.to(device), items.to(device), ratings.to(device)\n",
    "            pred = model.pred(users, items, train_edge_index)\n",
    "            loss = loss_fn(pred, ratings)\n",
    "            loss.backward()\n",
    "            optimizer.step()\n",
    "            loss_list.append(loss.item())\n",
    "            \n",
    "        loss_list_epoch.append(round(np.mean(loss_list),4))\n",
    "\n",
    "    return loss_list_epoch"
   ]
  },
  {
   "cell_type": "markdown",
   "metadata": {
    "id": "Z4xJSiBiznki",
    "pycharm": {
     "name": "#%% md\n"
    }
   },
   "source": [
    "Set Loss and Optimizer"
   ]
  },
  {
   "cell_type": "code",
   "execution_count": 28,
   "metadata": {
    "execution": {
     "iopub.execute_input": "2022-10-04T20:30:52.555130Z",
     "iopub.status.busy": "2022-10-04T20:30:52.554375Z",
     "iopub.status.idle": "2022-10-04T20:30:52.561308Z",
     "shell.execute_reply": "2022-10-04T20:30:52.559692Z",
     "shell.execute_reply.started": "2022-10-04T20:30:52.555097Z"
    },
    "id": "eKBv9eXongux",
    "pycharm": {
     "name": "#%%\n"
    }
   },
   "outputs": [],
   "source": [
    "loss_function = torch.nn.MSELoss()\n",
    "optimizer = torch.optim.Adam(lightgcn.parameters(), lr=LR)"
   ]
  },
  {
   "cell_type": "markdown",
   "metadata": {},
   "source": [
    "Train the Model"
   ]
  },
  {
   "cell_type": "code",
   "execution_count": 29,
   "metadata": {
    "execution": {
     "iopub.execute_input": "2022-10-04T20:30:56.725226Z",
     "iopub.status.busy": "2022-10-04T20:30:56.724450Z",
     "iopub.status.idle": "2022-10-04T20:48:01.131323Z",
     "shell.execute_reply": "2022-10-04T20:48:01.130338Z",
     "shell.execute_reply.started": "2022-10-04T20:30:56.725188Z"
    },
    "id": "iXfsuJlcy3FT",
    "pycharm": {
     "name": "#%%\n"
    }
   },
   "outputs": [
    {
     "data": {
      "application/vnd.jupyter.widget-view+json": {
       "model_id": "987c7d080dee440197d3249a09473174",
       "version_major": 2,
       "version_minor": 0
      },
      "text/plain": [
       "  0%|          | 0/5 [00:00<?, ?it/s]"
      ]
     },
     "metadata": {},
     "output_type": "display_data"
    },
    {
     "data": {
      "application/vnd.jupyter.widget-view+json": {
       "model_id": "67367e03f4074973bad9d0b12d036c32",
       "version_major": 2,
       "version_minor": 0
      },
      "text/plain": [
       "  0%|          | 0/4050 [00:00<?, ?it/s]"
      ]
     },
     "metadata": {},
     "output_type": "display_data"
    },
    {
     "data": {
      "application/vnd.jupyter.widget-view+json": {
       "model_id": "aea11fe5ed1c4348ba2675c0a686955b",
       "version_major": 2,
       "version_minor": 0
      },
      "text/plain": [
       "  0%|          | 0/4050 [00:00<?, ?it/s]"
      ]
     },
     "metadata": {},
     "output_type": "display_data"
    },
    {
     "data": {
      "application/vnd.jupyter.widget-view+json": {
       "model_id": "cda3c150aa834ed789b889cde8d17155",
       "version_major": 2,
       "version_minor": 0
      },
      "text/plain": [
       "  0%|          | 0/4050 [00:00<?, ?it/s]"
      ]
     },
     "metadata": {},
     "output_type": "display_data"
    },
    {
     "data": {
      "application/vnd.jupyter.widget-view+json": {
       "model_id": "bd6f978bff4f46ef81df46a2f7764892",
       "version_major": 2,
       "version_minor": 0
      },
      "text/plain": [
       "  0%|          | 0/4050 [00:00<?, ?it/s]"
      ]
     },
     "metadata": {},
     "output_type": "display_data"
    },
    {
     "data": {
      "application/vnd.jupyter.widget-view+json": {
       "model_id": "1394f37f1b6c48a8a68608c8e2dc92be",
       "version_major": 2,
       "version_minor": 0
      },
      "text/plain": [
       "  0%|          | 0/4050 [00:00<?, ?it/s]"
      ]
     },
     "metadata": {},
     "output_type": "display_data"
    }
   ],
   "source": [
    "loss_history = train(lightgcn, optimizer, train_dataset, num_user, num_place, train_edge_index, loss_function)"
   ]
  },
  {
   "cell_type": "markdown",
   "metadata": {},
   "source": [
    "Plot the Loss"
   ]
  },
  {
   "cell_type": "code",
   "execution_count": 31,
   "metadata": {
    "execution": {
     "iopub.execute_input": "2022-10-04T20:48:19.219592Z",
     "iopub.status.busy": "2022-10-04T20:48:19.219223Z",
     "iopub.status.idle": "2022-10-04T20:48:19.520423Z",
     "shell.execute_reply": "2022-10-04T20:48:19.519686Z",
     "shell.execute_reply.started": "2022-10-04T20:48:19.219566Z"
    },
    "id": "Z5P2Zf6yT4Uu",
    "pycharm": {
     "name": "#%%\n"
    }
   },
   "outputs": [
    {
     "data": {
      "text/plain": [
       "<matplotlib.legend.Legend at 0x7f8075abbc40>"
      ]
     },
     "execution_count": 31,
     "metadata": {},
     "output_type": "execute_result"
    },
    {
     "data": {
      "image/png": "[encoded data removed]",
      "text/plain": [
       "<Figure size 432x288 with 1 Axes>"
      ]
     },
     "metadata": {
      "needs_background": "light"
     },
     "output_type": "display_data"
    }
   ],
   "source": [
    "epoch_list = [(i+1) for i in range(EPOCHS)]\n",
    "\n",
    "plt.plot(epoch_list, loss_history, label='Training Loss')\n",
    "\n",
    "plt.xlabel('Epoch')\n",
    "plt.ylabel('Loss')\n",
    "plt.legend()"
   ]
  }
 ],
 "metadata": {
  "accelerator": "GPU",
  "colab": {
   "collapsed_sections": [],
   "include_colab_link": true,
   "name": "CS 224W Project.ipynb",
   "private_outputs": true,
   "provenance": []
  },
  "kernelspec": {
   "display_name": "Python 3 (ipykernel)",
   "language": "python",
   "name": "python3"
  },
  "language_info": {
   "codemirror_mode": {
    "name": "ipython",
    "version": 3
   },
   "file_extension": ".py",
   "mimetype": "text/x-python",
   "name": "python",
   "nbconvert_exporter": "python",
   "pygments_lexer": "ipython3",
   "version": "3.9.13"
  }
 },
 "nbformat": 4,
 "nbformat_minor": 4
}